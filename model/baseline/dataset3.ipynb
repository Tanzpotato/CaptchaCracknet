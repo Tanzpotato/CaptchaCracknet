{
  "cells": [
    {
      "cell_type": "code",
      "execution_count": 1,
      "metadata": {
        "id": "x4q3DsFQfmED"
      },
      "outputs": [],
      "source": []
    },
    {
      "cell_type": "code",
      "execution_count": 2,
      "metadata": {
        "id": "X7KLUhaSIZBr"
      },
      "outputs": [],
      "source": [
        "import torch\n",
        "from torch import nn\n",
        "import torch.nn.functional as F\n",
        "#from torchsummary import summary\n",
        "from tqdm import tqdm\n",
        "import os\n",
        "from torchvision import transforms\n",
        "from torch.utils.data import DataLoader,random_split,Dataset\n",
        "from PIL import Image,UnidentifiedImageError\n",
        "import string\n",
        "import matplotlib.pyplot as plt\n"
      ]
    },
    {
      "cell_type": "code",
      "execution_count": 1,
      "metadata": {
        "id": "geXGfiwDfxuP"
      },
      "outputs": [
        {
          "name": "stdout",
          "output_type": "stream",
          "text": [
            "Warning: Looks like you're using an outdated `kagglehub` version (installed: 0.3.10), please consider upgrading to the latest version (0.3.12).\n"
          ]
        }
      ],
      "source": [
        "import kagglehub\n",
        "path = kagglehub.dataset_download(\"akashguna/large-captcha-dataset\")\n",
        "#Hyper parameters\n",
        "#DATA_DIR='/kaggle/input/captcha-dataset'\n",
        "DATA_DIR = '/kaggle/input/large-captcha-dataset/Large_Captcha_Dataset'\n",
        "BATCH_SIZE=128\n",
        "VAL_SPLIT=0.05\n",
        "\n",
        "#AFFN\n",
        "AFFN_KERNEL=5\n",
        "AFFN_STRIDE=1\n",
        "AFFN_DEPTH=1\n",
        "\n",
        "#CRNN\n",
        "CRNN_KERNEL=5\n",
        "CRNN_POOL_KERNEL=2\n",
        "CRNN_DROPOUT=0.3\n",
        "CRNN_LATENT=128\n",
        "LSTM_HIDDEN_DIM=32\n",
        "VOCAB_SIZE=26*2+10\n",
        "OUTPUT_LENGTH=5\n",
        "\n",
        "#Train\n",
        "SAVE_EPOCH=5\n",
        "VAL_EPOCH=1\n",
        "EPOCHS=20"
      ]
    },
    {
      "cell_type": "code",
      "execution_count": 4,
      "metadata": {
        "colab": {
          "base_uri": "https://localhost:8080/"
        },
        "id": "BXgZGvLNdy8A",
        "outputId": "a9a05753-d0fc-4439-a019-2f4e0bc2a816"
      },
      "outputs": [
        {
          "name": "stdout",
          "output_type": "stream",
          "text": [
            "/kaggle/input/large-captcha-dataset\n"
          ]
        }
      ],
      "source": [
        "print(path)"
      ]
    },
    {
      "cell_type": "code",
      "execution_count": 5,
      "metadata": {
        "colab": {
          "base_uri": "https://localhost:8080/"
        },
        "id": "HT5Ug2NOxqQq",
        "outputId": "0bc8765b-e0d6-4675-8e33-55868fd55950"
      },
      "outputs": [
        {
          "name": "stdout",
          "output_type": "stream",
          "text": [
            "Error occurred while trying to remove the image: [Errno 30] Read-only file system: '/kaggle/input/large-captcha-dataset/Large_Captcha_Dataset/4q2wA.png'\n"
          ]
        }
      ],
      "source": [
        "def remove_image(image_path):\n",
        "    try:\n",
        "        if os.path.exists(image_path):\n",
        "            os.remove(image_path)\n",
        "            print(f\"Successfully removed the image: {image_path}\")\n",
        "        else:\n",
        "            print(f\"Image not found: {image_path}\")\n",
        "    except Exception as e:\n",
        "        print(f\"Error occurred while trying to remove the image: {e}\")\n",
        "\n",
        "\n",
        "image_to_remove = f'{DATA_DIR}/4q2wA.png'\n",
        "remove_image(image_to_remove)"
      ]
    },
    {
      "cell_type": "code",
      "execution_count": 7,
      "metadata": {
        "id": "vHUxpaiq3JPV"
      },
      "outputs": [],
      "source": [
        "DATA_DIR = '/kaggle/input/large-captcha-dataset/Large_Captcha_Dataset'"
      ]
    },
    {
      "cell_type": "code",
      "execution_count": 8,
      "metadata": {
        "colab": {
          "base_uri": "https://localhost:8080/"
        },
        "id": "e9zJh4yfgrHa",
        "outputId": "ec81aaad-957f-437f-95cf-03f24b032ae4"
      },
      "outputs": [
        {
          "data": {
            "text/plain": [
              "device(type='cpu')"
            ]
          },
          "execution_count": 8,
          "metadata": {},
          "output_type": "execute_result"
        }
      ],
      "source": [
        "device  = torch.device(\"cuda\" if torch.cuda.is_available() else \"cpu\")\n",
        "device"
      ]
    },
    {
      "cell_type": "code",
      "execution_count": 6,
      "metadata": {
        "id": "gPG--Vpi5ufa"
      },
      "outputs": [],
      "source": [
        "\n",
        "\n",
        "chars = string.ascii_letters + string.digits\n",
        "char_idx_dict = {character: index for index, character in enumerate(chars)}\n",
        "\n",
        "class CustomDataset(Dataset):\n",
        "    def __init__(self, root_dir, transform=None):\n",
        "        self.root_dir = root_dir\n",
        "        self.transform = transform\n",
        "\n",
        "        self.image_paths = []\n",
        "        self.labels = []\n",
        "        self.labels_indices = []\n",
        "\n",
        "        for f in os.listdir(root_dir):\n",
        "            if f.lower().endswith(('png', 'jpg', 'jpeg')):\n",
        "                img_path = os.path.join(root_dir, f)\n",
        "                try:\n",
        "                    with Image.open(img_path) as img:\n",
        "                        img.verify()\n",
        "                    self.image_paths.append(img_path)\n",
        "                    label_str = os.path.splitext(f)[0]\n",
        "                    self.labels.append(label_str)\n",
        "                    label_idx = [char_idx_dict[c] for c in label_str if c in char_idx_dict]\n",
        "                    self.labels_indices.append(torch.tensor(label_idx, dtype=torch.long))\n",
        "                except (UnidentifiedImageError, IOError) as e:\n",
        "                    logging.warning(f\"Skipping invalid image file {img_path}. Error: {e}\")\n",
        "\n",
        "        logging.info(f\"Loaded {len(self.image_paths)} valid images from {root_dir}\")\n",
        "\n",
        "    def __len__(self):\n",
        "        return len(self.image_paths)\n",
        "\n",
        "    def __getitem__(self, index):\n",
        "        # Defensive: try to find a valid image up to dataset size attempts to avoid infinite loops\n",
        "        attempts = 0\n",
        "        size = len(self.image_paths)\n",
        "        while attempts < size:\n",
        "            img_path = self.image_paths[index]\n",
        "            try:\n",
        "                with Image.open(img_path) as image:\n",
        "                    image = image.convert('RGB')\n",
        "                label_tensor = self.labels_indices[index]\n",
        "                if self.transform:\n",
        "                    image = self.transform(image)\n",
        "                return image, label_tensor\n",
        "            except (UnidentifiedImageError, IOError) as e:\n",
        "                logging.warning(f\"Skipping problematic image file {img_path}. Error: {e}\")\n",
        "                index = (index + 1) % size\n",
        "                attempts += 1\n",
        "\n",
        "        raise RuntimeError(\"No valid images found in the dataset.\")\n",
        "\n",
        "def get_dataloader(data_directory, batch_size=32, val_split=0.2, shuffle=True, num_workers=0):\n",
        "    transform = transforms.Compose([\n",
        "        transforms.Resize((40, 150)),\n",
        "        transforms.Grayscale(num_output_channels=1),\n",
        "        transforms.ToTensor(),\n",
        "        transforms.Lambda(lambda x: x / 255.0)\n",
        "    ])\n",
        "\n",
        "    dataset = CustomDataset(root_dir=data_directory, transform=transform)\n",
        "    total_size = len(dataset)\n",
        "    if total_size == 0:\n",
        "        raise RuntimeError(\"No valid images found in the dataset directory.\")\n",
        "\n",
        "    val_size = int(total_size * val_split)\n",
        "    train_size = total_size - val_size\n",
        "    train_dataset, val_dataset = random_split(dataset, [train_size, val_size])\n",
        "\n",
        "    train_loader = DataLoader(train_dataset, batch_size=batch_size, shuffle=shuffle, num_workers=num_workers)\n",
        "    val_loader = DataLoader(val_dataset, batch_size=batch_size, shuffle=False, num_workers=num_workers)\n",
        "\n",
        "    return train_loader, val_loader\n",
        "\n"
      ]
    },
    {
      "cell_type": "code",
      "execution_count": 10,
      "metadata": {
        "colab": {
          "base_uri": "https://localhost:8080/"
        },
        "id": "MyCDaVQNun5v",
        "outputId": "12b419f3-e084-4aa8-834b-3603d09263bb"
      },
      "outputs": [
        {
          "name": "stderr",
          "output_type": "stream",
          "text": [
            "WARNING:root:Skipping invalid image file /kaggle/input/large-captcha-dataset/Large_Captcha_Dataset/4q2wA.png. Error: cannot identify image file '/kaggle/input/large-captcha-dataset/Large_Captcha_Dataset/4q2wA.png'\n"
          ]
        }
      ],
      "source": [
        "train_loader, val_loader = get_dataloader(data_directory=DATA_DIR,batch_size=BATCH_SIZE,val_split=VAL_SPLIT,shuffle=True)"
      ]
    },
    {
      "cell_type": "code",
      "execution_count": 11,
      "metadata": {
        "colab": {
          "base_uri": "https://localhost:8080/"
        },
        "id": "FMCBCdwlx2Ox",
        "outputId": "f627613e-3695-48da-fc6e-2a7a90cfdeda"
      },
      "outputs": [
        {
          "name": "stdout",
          "output_type": "stream",
          "text": [
            "torch.Size([128, 1, 40, 150])\n",
            "torch.Size([128, 5])\n"
          ]
        }
      ],
      "source": [
        "X,y = next(iter(train_loader))\n",
        "print(X.shape)\n",
        "print(y.shape)"
      ]
    },
    {
      "cell_type": "code",
      "execution_count": 12,
      "metadata": {
        "id": "ZIMb39M80M3P"
      },
      "outputs": [],
      "source": [
        "class Encoder(nn.Sequential):\n",
        "  def __init__(self,n,kernel_size,stride):\n",
        "    super().__init__(\n",
        "        nn.Conv2d(in_channels=4**(n-1),out_channels=4**n,kernel_size=kernel_size,stride=stride),\n",
        "        nn.BatchNorm2d(num_features=4**n),\n",
        "        nn.ReLU(inplace=False)\n",
        "    )"
      ]
    },
    {
      "cell_type": "code",
      "execution_count": 13,
      "metadata": {
        "id": "4NYvGT7vnV2y"
      },
      "outputs": [],
      "source": [
        "class Decoder(nn.Sequential):\n",
        "  def __init__(self,n,kernel_size,stride):\n",
        "    super().__init__(\n",
        "        nn.ConvTranspose2d(in_channels=4**n,out_channels=4**(n-1),kernel_size=kernel_size,stride=stride),\n",
        "        nn.BatchNorm2d(num_features=4**(n-1)),\n",
        "        nn.ReLU(inplace=False)\n",
        "    )"
      ]
    },
    {
      "cell_type": "code",
      "execution_count": 14,
      "metadata": {
        "id": "3REByABFq7CH"
      },
      "outputs": [],
      "source": [
        "class AFFN(nn.Module):\n",
        "  def __init__(self,n):\n",
        "    super().__init__()\n",
        "    self.n= n\n",
        "    self.alpha = nn.Parameter(torch.randn(n-1).to(device)).to(device)\n",
        "    self.encoders = []\n",
        "    self.decoders = []\n",
        "    for  i in range(1,n+1):\n",
        "      self.encoders.append(Encoder(i,AFFN_KERNEL,AFFN_STRIDE).to(device))\n",
        "    for  i in range(n,0,-1):\n",
        "      self.decoders.append(Decoder(i,AFFN_KERNEL,AFFN_STRIDE).to(device))\n",
        "\n",
        "  def forward(self,x):\n",
        "    residuals = []\n",
        "    for i,enc in enumerate(self.encoders):\n",
        "      x= enc(x)\n",
        "      if i < self.n-1:\n",
        "        x = x * (1 - self.alpha[i])\n",
        "        residuals.append(x * self.alpha[i])\n",
        "    for i,dec in enumerate(self.decoders):\n",
        "      x= dec(x)\n",
        "      if i < self.n-1:\n",
        "        x= x + residuals.pop()\n",
        "    return x\n"
      ]
    },
    {
      "cell_type": "code",
      "execution_count": 15,
      "metadata": {
        "id": "BHct8LzoucU3"
      },
      "outputs": [],
      "source": [
        "class CRNN(nn.Module):\n",
        "    def __init__(self, in_channels, kernel_size, pool_kernel_size, dropout, latent_dim, lstm_hidden_dim, vocab_size, output_length=5):\n",
        "        super().__init__()\n",
        "        self.lstm_hidden_dim = lstm_hidden_dim\n",
        "        self.output_length = output_length  # Should be 5 for 5 characters\n",
        "        self.vocab_size = vocab_size\n",
        "\n",
        "        self.conv1 = nn.Sequential(\n",
        "            nn.Conv2d(in_channels=in_channels, out_channels=in_channels*2, kernel_size=kernel_size, padding=2),\n",
        "            nn.BatchNorm2d(num_features=in_channels*2),\n",
        "            nn.ReLU(inplace=False),\n",
        "            nn.MaxPool2d(kernel_size=pool_kernel_size)\n",
        "        )\n",
        "        self.conv2 = nn.Sequential(\n",
        "            nn.Conv2d(in_channels=in_channels*2, out_channels=in_channels*4, kernel_size=kernel_size, padding=2),\n",
        "            nn.BatchNorm2d(num_features=in_channels*4),\n",
        "            nn.ReLU(inplace=False),\n",
        "            nn.MaxPool2d(kernel_size=pool_kernel_size)\n",
        "        )\n",
        "        self.flatten = nn.Flatten()\n",
        "        self.dropout = nn.Dropout(dropout)\n",
        "        self.latent_fc = nn.LazyLinear(latent_dim)\n",
        "        self.lstm = nn.LSTM(input_size=latent_dim, hidden_size=lstm_hidden_dim, num_layers=1, batch_first=True)\n",
        "        self.output_fc = nn.Linear(lstm_hidden_dim, vocab_size)\n",
        "\n",
        "    def forward(self, x):\n",
        "        batch_size = x.size(0)\n",
        "\n",
        "        # CNN feature extraction\n",
        "        conv1_out = self.conv1(x)\n",
        "        conv2_out = self.conv2(conv1_out)\n",
        "        flattened = self.flatten(conv2_out)\n",
        "        dropped = self.dropout(flattened)\n",
        "        latent = self.latent_fc(dropped)\n",
        "\n",
        "        lstm_input = latent.unsqueeze(1)\n",
        "\n",
        "        # Initialize hidden and cell states\n",
        "        h0 = torch.zeros(1, batch_size, self.lstm_hidden_dim, device=x.device)\n",
        "        c0 = torch.zeros(1, batch_size, self.lstm_hidden_dim, device=x.device)\n",
        "\n",
        "        outputs = []\n",
        "\n",
        "        # Generate 5 characters sequentially\n",
        "        for _ in range(self.output_length):\n",
        "            out, (h0, c0) = self.lstm(lstm_input, (h0, c0))  # out shape: (batch_size, 1, lstm_hidden_dim)\n",
        "\n",
        "            logits = self.output_fc(out.squeeze(1))  # Shape: (batch_size, vocab_size)\n",
        "\n",
        "            outputs.append(logits)\n",
        "\n",
        "        outputs = torch.stack(outputs, dim=1)  # Shape: (batch_size, 5, vocab_size)\n",
        "\n",
        "        return outputs"
      ]
    },
    {
      "cell_type": "code",
      "execution_count": 16,
      "metadata": {
        "id": "kSBbC0g63YK7"
      },
      "outputs": [],
      "source": [
        "output=CRNN(64,CRNN_KERNEL,CRNN_POOL_KERNEL,CRNN_DROPOUT,CRNN_LATENT,LSTM_HIDDEN_DIM,VOCAB_SIZE,OUTPUT_LENGTH).to(device)(torch.zeros((2,64,256,256)).to(device))\n"
      ]
    },
    {
      "cell_type": "code",
      "execution_count": 17,
      "metadata": {
        "colab": {
          "base_uri": "https://localhost:8080/"
        },
        "id": "yljn6Qos3mT6",
        "outputId": "b2ebe336-b456-49df-a109-cb92f2fdf0df"
      },
      "outputs": [
        {
          "data": {
            "text/plain": [
              "torch.Size([2, 5, 62])"
            ]
          },
          "execution_count": 17,
          "metadata": {},
          "output_type": "execute_result"
        }
      ],
      "source": [
        "output.shape"
      ]
    },
    {
      "cell_type": "code",
      "execution_count": 18,
      "metadata": {
        "id": "vrl3Dh_a3tdN"
      },
      "outputs": [],
      "source": [
        "class CaptchaCrackNet(nn.Module):\n",
        "    def __init__(self):\n",
        "        super().__init__()\n",
        "        self.affn=AFFN(AFFN_DEPTH).to(device)\n",
        "\n",
        "        self.conv1=nn.Sequential(\n",
        "            nn.Conv2d(in_channels=1,out_channels=32,kernel_size=5,padding=2),\n",
        "            nn.ReLU(inplace=False),\n",
        "            nn.MaxPool2d(kernel_size=2)\n",
        "        )\n",
        "\n",
        "        self.conv2=nn.Sequential(\n",
        "                    nn.Conv2d(in_channels=32,out_channels=48,kernel_size=5,padding=2),\n",
        "                    nn.ReLU(inplace=False),\n",
        "                    nn.MaxPool2d(kernel_size=2)\n",
        "                )\n",
        "\n",
        "        self.conv3=nn.Sequential(\n",
        "            nn.Conv2d(in_channels=48,out_channels=64,kernel_size=5,padding=2),\n",
        "            nn.ReLU(inplace=False),\n",
        "            nn.MaxPool2d(kernel_size=2)\n",
        "        )\n",
        "\n",
        "        self.res=nn.Conv2d(in_channels=1, out_channels=32, kernel_size=5, stride=2, padding=2)\n",
        "\n",
        "        self.crnn=CRNN(64,CRNN_KERNEL,CRNN_POOL_KERNEL,CRNN_DROPOUT,CRNN_LATENT,LSTM_HIDDEN_DIM,VOCAB_SIZE,OUTPUT_LENGTH).to(device)\n",
        "\n",
        "    def forward(self,x):\n",
        "        affn_out=self.affn(x)\n",
        "        res_out=self.res(x)\n",
        "        conv1_out=self.conv1(affn_out)\n",
        "        conv2_out=self.conv2(conv1_out+res_out)\n",
        "        conv3_out=self.conv3(conv2_out)\n",
        "        output=self.crnn(conv3_out)\n",
        "        return output\n"
      ]
    },
    {
      "cell_type": "code",
      "execution_count": 19,
      "metadata": {
        "colab": {
          "base_uri": "https://localhost:8080/"
        },
        "id": "lUuh1k2u37n1",
        "outputId": "057b1284-45e1-4478-d6d3-88bf74820df0"
      },
      "outputs": [
        {
          "data": {
            "text/plain": [
              "CaptchaCrackNet(\n",
              "  (affn): AFFN()\n",
              "  (conv1): Sequential(\n",
              "    (0): Conv2d(1, 32, kernel_size=(5, 5), stride=(1, 1), padding=(2, 2))\n",
              "    (1): ReLU()\n",
              "    (2): MaxPool2d(kernel_size=2, stride=2, padding=0, dilation=1, ceil_mode=False)\n",
              "  )\n",
              "  (conv2): Sequential(\n",
              "    (0): Conv2d(32, 48, kernel_size=(5, 5), stride=(1, 1), padding=(2, 2))\n",
              "    (1): ReLU()\n",
              "    (2): MaxPool2d(kernel_size=2, stride=2, padding=0, dilation=1, ceil_mode=False)\n",
              "  )\n",
              "  (conv3): Sequential(\n",
              "    (0): Conv2d(48, 64, kernel_size=(5, 5), stride=(1, 1), padding=(2, 2))\n",
              "    (1): ReLU()\n",
              "    (2): MaxPool2d(kernel_size=2, stride=2, padding=0, dilation=1, ceil_mode=False)\n",
              "  )\n",
              "  (res): Conv2d(1, 32, kernel_size=(5, 5), stride=(2, 2), padding=(2, 2))\n",
              "  (crnn): CRNN(\n",
              "    (conv1): Sequential(\n",
              "      (0): Conv2d(64, 128, kernel_size=(5, 5), stride=(1, 1), padding=(2, 2))\n",
              "      (1): BatchNorm2d(128, eps=1e-05, momentum=0.1, affine=True, track_running_stats=True)\n",
              "      (2): ReLU()\n",
              "      (3): MaxPool2d(kernel_size=2, stride=2, padding=0, dilation=1, ceil_mode=False)\n",
              "    )\n",
              "    (conv2): Sequential(\n",
              "      (0): Conv2d(128, 256, kernel_size=(5, 5), stride=(1, 1), padding=(2, 2))\n",
              "      (1): BatchNorm2d(256, eps=1e-05, momentum=0.1, affine=True, track_running_stats=True)\n",
              "      (2): ReLU()\n",
              "      (3): MaxPool2d(kernel_size=2, stride=2, padding=0, dilation=1, ceil_mode=False)\n",
              "    )\n",
              "    (flatten): Flatten(start_dim=1, end_dim=-1)\n",
              "    (dropout): Dropout(p=0.3, inplace=False)\n",
              "    (latent_fc): LazyLinear(in_features=0, out_features=128, bias=True)\n",
              "    (lstm): LSTM(128, 32, batch_first=True)\n",
              "    (output_fc): Linear(in_features=32, out_features=62, bias=True)\n",
              "  )\n",
              ")"
            ]
          },
          "execution_count": 19,
          "metadata": {},
          "output_type": "execute_result"
        }
      ],
      "source": [
        "CaptchaCrackNet()\n"
      ]
    },
    {
      "cell_type": "code",
      "execution_count": 20,
      "metadata": {
        "id": "K5HKuCmY4AVc"
      },
      "outputs": [],
      "source": [
        "def loss_fn(preds,target):\n",
        "    ce_loss=F.cross_entropy(preds,target)\n",
        "    return ce_loss\n",
        "\n",
        "torch.manual_seed(42)\n",
        "def train(model,train_loader,val_loader,optimizer,loss_fn,epochs):\n",
        "    train_history=[]\n",
        "    val_history=[]\n",
        "    model.to(device)\n",
        "    for epoch in range(1,epochs+1):\n",
        "        print(f\"Epoch {epoch}:\")\n",
        "        model.train()\n",
        "        avg_loss=0\n",
        "        for batch_num,(X,y) in enumerate(tqdm(train_loader,desc=\"Progress: \")):\n",
        "            X=X.to(device)\n",
        "            y=y.to(device)\n",
        "            optimizer.zero_grad()\n",
        "            preds=model(X)\n",
        "\n",
        "            loss=loss_fn(preds.reshape(-1, VOCAB_SIZE),y.view(-1))\n",
        "            loss.backward()\n",
        "            optimizer.step()\n",
        "\n",
        "            avg_loss+=loss.item()\n",
        "        avg_loss/=len(train_loader)\n",
        "        train_history.append(avg_loss)\n",
        "        print(f\"Loss: {avg_loss}\")\n",
        "\n",
        "        eval_loss=0\n",
        "        if VAL_EPOCH and epoch%VAL_EPOCH==0:\n",
        "            model.eval()\n",
        "            with torch.no_grad():\n",
        "                for batch_num,(X,y) in enumerate(tqdm(val_loader,desc=\"Progress: \")):\n",
        "                    X=X.to(device)\n",
        "                    y=y.to(device)\n",
        "                    preds=model(X)\n",
        "                    loss = loss_fn(preds.reshape(-1, VOCAB_SIZE), y.reshape(-1))\n",
        "\n",
        "                    eval_loss+=loss.item()\n",
        "                eval_loss/=len(val_loader)\n",
        "                val_history.append(eval_loss)\n",
        "                print(f\"Val Loss: {eval_loss}\",eval_loss)\n",
        "\n",
        "        if SAVE_EPOCH and epoch%SAVE_EPOCH==0:\n",
        "            print(\"Saving model\")\n",
        "            path=str(epoch)+'.pth'\n",
        "            torch.save({\n",
        "    'model_state_dict': model.state_dict(),\n",
        "    'optimizer_state_dict': optimizer.state_dict(),\n",
        "    'seed': 42\n",
        "}, path)\n",
        "    torch.save({\n",
        "    'model_state_dict': model.state_dict(),\n",
        "    'optimizer_state_dict': optimizer.state_dict(),\n",
        "    'seed': 42\n",
        "}, 'final final.pth')\n",
        "    return train_history,val_history"
      ]
    },
    {
      "cell_type": "code",
      "execution_count": 21,
      "metadata": {
        "id": "JdPi0K0hUUbH"
      },
      "outputs": [],
      "source": [
        "\n",
        "model=CaptchaCrackNet().to(device)\n",
        "optimizer=torch.optim.Adam(model.parameters())"
      ]
    },
    {
      "cell_type": "code",
      "execution_count": 25,
      "metadata": {
        "colab": {
          "base_uri": "https://localhost:8080/"
        },
        "id": "yj7ifu_WxRjs",
        "outputId": "36e30209-5cd7-4750-b315-66c99c63891a"
      },
      "outputs": [
        {
          "name": "stdout",
          "output_type": "stream",
          "text": [
            "Checkpoint keys: dict_keys(['model_state_dict', 'optimizer_state_dict', 'seed'])\n"
          ]
        }
      ],
      "source": [
        "checkpoint = torch.load(r'/content/10 add gc.pth', map_location=device)\n",
        "# Restore states\n",
        "print(\"Checkpoint keys:\", checkpoint.keys())\n",
        "model.load_state_dict(checkpoint['model_state_dict'])\n",
        "optimizer.load_state_dict(checkpoint['optimizer_state_dict'])"
      ]
    },
    {
      "cell_type": "code",
      "execution_count": null,
      "metadata": {
        "id": "ujBvJBGmV-We"
      },
      "outputs": [],
      "source": [
        "#train_history,val_history=train(model,train_loader,val_loader,optimizer,nn.CrossEntropyLoss(),EPOCHS)\n"
      ]
    },
    {
      "cell_type": "code",
      "execution_count": null,
      "metadata": {
        "id": "Wo2qA4LTXLO5"
      },
      "outputs": [],
      "source": [
        "# x_values = list(range(1, EPOCHS + 1))\n",
        "# plt.plot(x_values, train_history, label='Train')\n",
        "# plt.xlabel('Epochs')\n",
        "# plt.ylabel('Loss')\n",
        "# plt.legend()\n",
        "# plt.title('Training History')\n",
        "# plt.show()"
      ]
    },
    {
      "cell_type": "code",
      "execution_count": 26,
      "metadata": {
        "id": "oDZJHWdUvtZQ"
      },
      "outputs": [],
      "source": [
        "characters = string.ascii_letters + string.digits\n",
        "idx_to_char = {idx: char for idx, char in enumerate(characters)}\n",
        "def to_text(arr):\n",
        "    ans=''\n",
        "    for c in arr:\n",
        "        ans=ans+idx_to_char[c.item()]\n",
        "    return ans"
      ]
    },
    {
      "cell_type": "code",
      "execution_count": 42,
      "metadata": {
        "colab": {
          "base_uri": "https://localhost:8080/",
          "height": 452
        },
        "id": "noCKdLvA39Cy",
        "outputId": "d5ea82ff-0788-44ff-8656-74b96c0b728d"
      },
      "outputs": [
        {
          "data": {
            "image/png": "[encoded data removed]",
            "text/plain": [
              "<Figure size 640x480 with 1 Axes>"
            ]
          },
          "metadata": {},
          "output_type": "display_data"
        },
        {
          "data": {
            "image/png": "[encoded data removed]",
            "text/plain": [
              "<Figure size 640x480 with 1 Axes>"
            ]
          },
          "metadata": {},
          "output_type": "display_data"
        },
        {
          "name": "stdout",
          "output_type": "stream",
          "text": [
            "Output shape: torch.Size([1, 5, 62])\n",
            "Predicted indices: [60, 52, 52, 29, 57]\n",
            "Predicted text: 800D5\n",
            "Ground truth label: tensor([60, 52, 52, 29, 57])\n",
            "Actual label: 800D5\n"
          ]
        }
      ],
      "source": [
        "with torch.no_grad():\n",
        "    for X, y in train_loader:\n",
        "        X_sample = X[0]\n",
        "        y_sample = y[0]\n",
        "\n",
        "        img = X_sample.cpu().numpy().transpose(1, 2, 0)\n",
        "        plt.imshow(img)\n",
        "        plt.title(\"Input Image\")\n",
        "        plt.axis('off')\n",
        "        plt.show()\n",
        "\n",
        "        X_input = X_sample.unsqueeze(0).to(device)\n",
        "        output = model(X_input)\n",
        "        X1 = model.affn(X_input)\n",
        "\n",
        "        img_trans = X1[0].cpu().numpy().transpose(1, 2, 0)\n",
        "        plt.imshow(img_trans)\n",
        "        plt.title(\"Transformed Image\")\n",
        "        plt.axis('off')\n",
        "        plt.show()\n",
        "\n",
        "        print(\"Output shape:\", output.shape)\n",
        "\n",
        "        pred_indices = output.squeeze(0).argmax(dim=1)\n",
        "        print(\"Predicted indices:\", pred_indices.tolist())\n",
        "        print(\"Predicted text:\", to_text(pred_indices))\n",
        "        print(\"Ground truth label:\", y_sample)\n",
        "        print(\"Actual label:\",to_text(y_sample))\n",
        "        break"
      ]
    },
    {
      "cell_type": "code",
      "execution_count": 44,
      "metadata": {
        "id": "6cZE9R8B98dz"
      },
      "outputs": [],
      "source": [
        "def evaluate(model, data_loader, criterion):\n",
        "    model.eval()\n",
        "    total_samples = 0\n",
        "    correct_samples = 0\n",
        "    total_loss = 0\n",
        "\n",
        "    with torch.no_grad():\n",
        "        for data, target in data_loader:\n",
        "            data, target = data.to(device), target.to(device)\n",
        "            output = model(data)\n",
        "\n",
        "            output = output.reshape(-1, output.shape[-1])\n",
        "            target = target.view(-1)\n",
        "\n",
        "            loss = criterion(output, target)\n",
        "            total_loss += loss.item()\n",
        "\n",
        "\n",
        "            _, pred = torch.max(output, dim=1)\n",
        "            correct_samples += pred.eq(target).sum().item()\n",
        "            total_samples += target.numel()\n",
        "\n",
        "    avg_loss = total_loss / len(data_loader)\n",
        "    accuracy = 100.0 * correct_samples / total_samples\n",
        "    print(f'Average test loss: {avg_loss:.4f}, Accuracy: {correct_samples}/{total_samples} ({accuracy:.2f}%)')"
      ]
    },
    {
      "cell_type": "code",
      "execution_count": 34,
      "metadata": {
        "colab": {
          "base_uri": "https://localhost:8080/"
        },
        "id": "BaeUeXGb9PmY",
        "outputId": "dafe6ecb-24e4-403f-fc8f-e0dd4169c491"
      },
      "outputs": [
        {
          "name": "stdout",
          "output_type": "stream",
          "text": [
            "Average test loss: 0.0312, Accuracy: 20429/20580 (99.27%)\n"
          ]
        }
      ],
      "source": [
        "evaluate(model,data_loader=val_loader,criterion=nn.CrossEntropyLoss())"
      ]
    }
  ],
  "metadata": {
    "accelerator": "GPU",
    "colab": {
      "gpuType": "T4",
      "provenance": []
    },
    "kernelspec": {
      "display_name": "Python (pytorch_env)",
      "language": "python",
      "name": "pytorch_env"
    },
    "language_info": {
      "codemirror_mode": {
        "name": "ipython",
        "version": 3
      },
      "file_extension": ".py",
      "mimetype": "text/x-python",
      "name": "python",
      "nbconvert_exporter": "python",
      "pygments_lexer": "ipython3",
      "version": "3.10.16"
    }
  },
  "nbformat": 4,
  "nbformat_minor": 0
}
