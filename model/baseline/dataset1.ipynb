{
 "cells": [
  {
   "cell_type": "markdown",
   "id": "2b1727fb",
   "metadata": {},
   "source": [
    "# Adaptive Captcha\n",
    "\n",
    "Implementation of the paper on https://www.kaggle.com/datasets/parsasam/captcha-dataset\n"
   ]
  },
  {
   "cell_type": "code",
   "execution_count": 1,
   "id": "e4a19a91",
   "metadata": {
    "execution": {
     "iopub.execute_input": "2025-03-11T10:30:57.743921Z",
     "iopub.status.busy": "2025-03-11T10:30:57.743621Z",
     "iopub.status.idle": "2025-03-11T10:31:02.243994Z",
     "shell.execute_reply": "2025-03-11T10:31:02.243123Z"
    },
    "papermill": {
     "duration": 4.508599,
     "end_time": "2025-03-11T10:31:02.245606",
     "exception": false,
     "start_time": "2025-03-11T10:30:57.737007",
     "status": "completed"
    },
    "tags": []
   },
   "outputs": [
    {
     "name": "stdout",
     "output_type": "stream",
     "text": [
      "Collecting torch-summary\r\n",
      "  Downloading torch_summary-1.4.5-py3-none-any.whl.metadata (18 kB)\r\n",
      "Downloading torch_summary-1.4.5-py3-none-any.whl (16 kB)\r\n",
      "Installing collected packages: torch-summary\r\n",
      "Successfully installed torch-summary-1.4.5\r\n"
     ]
    }
   ],
   "source": [
    "!pip install --upgrade torch-summary"
   ]
  },
  {
   "cell_type": "code",
   "execution_count": 2,
   "id": "4913bbc7",
   "metadata": {
    "_cell_guid": "b1076dfc-b9ad-4769-8c92-a6c4dae69d19",
    "_uuid": "8f2839f25d086af736a60e9eeb907d3b93b6e0e5",
    "execution": {
     "iopub.execute_input": "2025-03-11T10:31:02.257119Z",
     "iopub.status.busy": "2025-03-11T10:31:02.256869Z",
     "iopub.status.idle": "2025-03-11T10:31:05.280507Z",
     "shell.execute_reply": "2025-03-11T10:31:05.279600Z"
    },
    "papermill": {
     "duration": 3.030839,
     "end_time": "2025-03-11T10:31:05.282082",
     "exception": false,
     "start_time": "2025-03-11T10:31:02.251243",
     "status": "completed"
    },
    "tags": []
   },
   "outputs": [],
   "source": [
    "import torch\n",
    "from torch import nn\n",
    "import torch.nn.functional as F\n",
    "from torchsummary import summary\n",
    "from tqdm import tqdm"
   ]
  },
  {
   "cell_type": "code",
   "execution_count": 3,
   "id": "b96ef1c1",
   "metadata": {
    "execution": {
     "iopub.execute_input": "2025-03-11T10:31:05.293133Z",
     "iopub.status.busy": "2025-03-11T10:31:05.292790Z",
     "iopub.status.idle": "2025-03-11T10:31:05.296923Z",
     "shell.execute_reply": "2025-03-11T10:31:05.296109Z"
    },
    "papermill": {
     "duration": 0.010927,
     "end_time": "2025-03-11T10:31:05.298265",
     "exception": false,
     "start_time": "2025-03-11T10:31:05.287338",
     "status": "completed"
    },
    "tags": []
   },
   "outputs": [],
   "source": [
    "DATA_DIR='/kaggle/input/captcha-dataset'\n",
    "BATCH_SIZE=128\n",
    "VAL_SPLIT=0.05\n",
    "\n",
    "#AFFN\n",
    "AFFN_KERNEL=5\n",
    "AFFN_STRIDE=1\n",
    "AFFN_DEPTH=4\n",
    "\n",
    "#CRNN\n",
    "CRNN_KERNEL=5\n",
    "CRNN_POOL_KERNEL=2\n",
    "CRNN_DROPOUT=0.3\n",
    "CRNN_LATENT=128\n",
    "LSTM_HIDDEN_DIM=32\n",
    "VOCAB_SIZE=26*2+10\n",
    "OUTPUT_LENGTH=5\n",
    "\n",
    "#Train\n",
    "SAVE_EPOCH=10\n",
    "VAL_EPOCH=1\n",
    "EPOCHS=40"
   ]
  },
  {
   "cell_type": "code",
   "execution_count": 4,
   "id": "7159b912",
   "metadata": {
    "execution": {
     "iopub.execute_input": "2025-03-11T10:31:05.308774Z",
     "iopub.status.busy": "2025-03-11T10:31:05.308536Z",
     "iopub.status.idle": "2025-03-11T10:31:05.350280Z",
     "shell.execute_reply": "2025-03-11T10:31:05.349602Z"
    },
    "papermill": {
     "duration": 0.048167,
     "end_time": "2025-03-11T10:31:05.351398",
     "exception": false,
     "start_time": "2025-03-11T10:31:05.303231",
     "status": "completed"
    },
    "tags": []
   },
   "outputs": [],
   "source": [
    "device = torch.device(\"cuda\" if torch.cuda.is_available() else \"cpu\")"
   ]
  },
  {
   "cell_type": "code",
   "execution_count": 5,
   "id": "d61d1fe4",
   "metadata": {
    "execution": {
     "iopub.execute_input": "2025-03-11T10:31:05.361955Z",
     "iopub.status.busy": "2025-03-11T10:31:05.361744Z",
     "iopub.status.idle": "2025-03-11T10:31:09.273621Z",
     "shell.execute_reply": "2025-03-11T10:31:09.272945Z"
    },
    "papermill": {
     "duration": 3.918846,
     "end_time": "2025-03-11T10:31:09.275181",
     "exception": false,
     "start_time": "2025-03-11T10:31:05.356335",
     "status": "completed"
    },
    "tags": []
   },
   "outputs": [],
   "source": [
    "import os\n",
    "import torch\n",
    "from torchvision import transforms\n",
    "from torch.utils.data import DataLoader, random_split, Dataset\n",
    "from PIL import Image\n",
    "import string\n",
    "\n",
    "\n",
    "def get_dataloaders(data_dir, batch_size=32, val_split=0.2, shuffle=True, num_workers=2):\n",
    "    \"\"\"\n",
    "    Creates PyTorch dataloaders for training and validation with one-hot encoded labels.\n",
    "    \n",
    "    Parameters:\n",
    "        data_dir (str): Path to the folder containing images.\n",
    "        batch_size (int): Batch size for dataloaders.\n",
    "        val_split (float): Fraction of data to use for validation.\n",
    "        shuffle (bool): Whether to shuffle data.\n",
    "        num_workers (int): Number of workers for dataloaders.\n",
    "\n",
    "    Returns:\n",
    "        train_loader, val_loader: DataLoaders for training and validation.\n",
    "    \"\"\"\n",
    "    # Define the character set (vocabulary)\n",
    "    characters = string.ascii_letters + string.digits  # Uppercase + lowercase + digits\n",
    "    char_to_idx = {char: idx for idx, char in enumerate(characters)}\n",
    "    vocab_size = len(characters)\n",
    "\n",
    "    class CustomDataset(Dataset):\n",
    "        def __init__(self, root_dir, transform=None):\n",
    "            self.root_dir = root_dir\n",
    "            self.transform = transform\n",
    "            self.image_paths = [os.path.join(root_dir, f) for f in os.listdir(root_dir) if f.endswith(('png', 'jpg', 'jpeg'))]\n",
    "            self.labels = [os.path.basename(f).split('.')[0] for f in self.image_paths]  # Extract filename as label\n",
    "        \n",
    "        def __len__(self):\n",
    "            return len(self.image_paths)\n",
    "        \n",
    "        def __getitem__(self, idx):\n",
    "            img_path = self.image_paths[idx]\n",
    "            image = Image.open(img_path).convert('RGB')\n",
    "            label_str = self.labels[idx]\n",
    "            \n",
    "            # Convert label string to one-hot encoded tensor\n",
    "            label_indices = [char_to_idx[c] for c in label_str if c in char_to_idx]  # Map characters to indices\n",
    "            label_tensor = torch.zeros(len(label_indices),dtype=torch.long)  # One-hot encoding tensor\n",
    "            for i, index in enumerate(label_indices):\n",
    "                label_tensor[i] = index  # Set one-hot encoding\n",
    "            \n",
    "            if self.transform:\n",
    "                image = self.transform(image)\n",
    "            \n",
    "            return image, label_tensor\n",
    "    \n",
    "    transform = transforms.Compose([\n",
    "        transforms.Resize((40, 150)),  # Resize to a fixed size\n",
    "        transforms.ToTensor(),\n",
    "        transforms.Grayscale(),\n",
    "        transforms.Lambda(lambda x: x / 255),\n",
    "    ])\n",
    "    \n",
    "    dataset = CustomDataset(root_dir=data_dir, transform=transform)\n",
    "    \n",
    "    # Compute train-validation split\n",
    "    total_size = len(dataset)\n",
    "    val_size = int(total_size * val_split)\n",
    "    train_size = total_size - val_size\n",
    "    train_dataset, val_dataset = random_split(dataset, [train_size, val_size])\n",
    "    \n",
    "    train_loader = DataLoader(train_dataset, batch_size=batch_size, shuffle=shuffle, num_workers=num_workers)\n",
    "    val_loader = DataLoader(val_dataset, batch_size=batch_size, shuffle=False, num_workers=num_workers)\n",
    "    \n",
    "    return train_loader, val_loader\n"
   ]
  },
  {
   "cell_type": "code",
   "execution_count": 6,
   "id": "f9b9aa82",
   "metadata": {
    "execution": {
     "iopub.execute_input": "2025-03-11T10:31:09.286298Z",
     "iopub.status.busy": "2025-03-11T10:31:09.285985Z",
     "iopub.status.idle": "2025-03-11T10:31:10.416304Z",
     "shell.execute_reply": "2025-03-11T10:31:10.415542Z"
    },
    "papermill": {
     "duration": 1.137418,
     "end_time": "2025-03-11T10:31:10.417900",
     "exception": false,
     "start_time": "2025-03-11T10:31:09.280482",
     "status": "completed"
    },
    "tags": []
   },
   "outputs": [],
   "source": [
    "train_loader,val_loader=get_dataloaders(DATA_DIR, batch_size=BATCH_SIZE, val_split=VAL_SPLIT, shuffle=True)"
   ]
  },
  {
   "cell_type": "code",
   "execution_count": 7,
   "id": "edb1fdab",
   "metadata": {
    "execution": {
     "iopub.execute_input": "2025-03-11T10:31:10.429702Z",
     "iopub.status.busy": "2025-03-11T10:31:10.429438Z",
     "iopub.status.idle": "2025-03-11T10:31:12.204048Z",
     "shell.execute_reply": "2025-03-11T10:31:12.202933Z"
    },
    "papermill": {
     "duration": 1.782483,
     "end_time": "2025-03-11T10:31:12.206090",
     "exception": false,
     "start_time": "2025-03-11T10:31:10.423607",
     "status": "completed"
    },
    "tags": []
   },
   "outputs": [
    {
     "name": "stdout",
     "output_type": "stream",
     "text": [
      "torch.Size([128, 1, 40, 150])\n",
      "torch.Size([128, 5])\n"
     ]
    }
   ],
   "source": [
    "for X,y in train_loader:\n",
    "    print(X.shape)\n",
    "    print(y.shape)\n",
    "    break"
   ]
  },
  {
   "cell_type": "markdown",
   "id": "f806db26",
   "metadata": {
    "papermill": {
     "duration": 0.007696,
     "end_time": "2025-03-11T10:31:12.223699",
     "exception": false,
     "start_time": "2025-03-11T10:31:12.216003",
     "status": "completed"
    },
    "tags": []
   },
   "source": [
    "## AFFN\n"
   ]
  },
  {
   "cell_type": "code",
   "execution_count": 8,
   "id": "5a5874dc",
   "metadata": {
    "execution": {
     "iopub.execute_input": "2025-03-11T10:31:12.235224Z",
     "iopub.status.busy": "2025-03-11T10:31:12.234855Z",
     "iopub.status.idle": "2025-03-11T10:31:12.240588Z",
     "shell.execute_reply": "2025-03-11T10:31:12.239831Z"
    },
    "papermill": {
     "duration": 0.013222,
     "end_time": "2025-03-11T10:31:12.241953",
     "exception": false,
     "start_time": "2025-03-11T10:31:12.228731",
     "status": "completed"
    },
    "tags": []
   },
   "outputs": [],
   "source": [
    "class Encoder(nn.Sequential):\n",
    "    def __init__(self,n,kernel_size,stride):\n",
    "        super().__init__(\n",
    "            nn.Conv2d(in_channels=4**(n-1),out_channels=4**n,kernel_size=kernel_size,stride=stride),\n",
    "            nn.BatchNorm2d(num_features=4**n),\n",
    "            nn.ReLU(inplace=False)\n",
    "        )"
   ]
  },
  {
   "cell_type": "code",
   "execution_count": 9,
   "id": "2bd78bd6",
   "metadata": {
    "execution": {
     "iopub.execute_input": "2025-03-11T10:31:12.252429Z",
     "iopub.status.busy": "2025-03-11T10:31:12.252212Z",
     "iopub.status.idle": "2025-03-11T10:31:12.255838Z",
     "shell.execute_reply": "2025-03-11T10:31:12.254996Z"
    },
    "papermill": {
     "duration": 0.010307,
     "end_time": "2025-03-11T10:31:12.257166",
     "exception": false,
     "start_time": "2025-03-11T10:31:12.246859",
     "status": "completed"
    },
    "tags": []
   },
   "outputs": [],
   "source": [
    "# summary(Encoder(2,AFFN_KERNEL,AFFN_STRIDE),(4,36,146))"
   ]
  },
  {
   "cell_type": "code",
   "execution_count": 10,
   "id": "93e2ab86",
   "metadata": {
    "execution": {
     "iopub.execute_input": "2025-03-11T10:31:12.269199Z",
     "iopub.status.busy": "2025-03-11T10:31:12.268925Z",
     "iopub.status.idle": "2025-03-11T10:31:12.273803Z",
     "shell.execute_reply": "2025-03-11T10:31:12.272728Z"
    },
    "papermill": {
     "duration": 0.01324,
     "end_time": "2025-03-11T10:31:12.275841",
     "exception": false,
     "start_time": "2025-03-11T10:31:12.262601",
     "status": "completed"
    },
    "tags": []
   },
   "outputs": [],
   "source": [
    "class Decoder(nn.Sequential):\n",
    "    def __init__(self,n,kernel_size,stride):\n",
    "        super().__init__(\n",
    "            nn.ConvTranspose2d(in_channels=4**n,out_channels=4**(n-1),kernel_size=kernel_size,stride=stride),\n",
    "            nn.BatchNorm2d(num_features=4**(n-1)),\n",
    "            nn.ReLU(inplace=False)\n",
    "        )"
   ]
  },
  {
   "cell_type": "code",
   "execution_count": 11,
   "id": "c9e94949",
   "metadata": {
    "execution": {
     "iopub.execute_input": "2025-03-11T10:31:12.296359Z",
     "iopub.status.busy": "2025-03-11T10:31:12.296018Z",
     "iopub.status.idle": "2025-03-11T10:31:12.299539Z",
     "shell.execute_reply": "2025-03-11T10:31:12.298724Z"
    },
    "papermill": {
     "duration": 0.014313,
     "end_time": "2025-03-11T10:31:12.300998",
     "exception": false,
     "start_time": "2025-03-11T10:31:12.286685",
     "status": "completed"
    },
    "tags": []
   },
   "outputs": [],
   "source": [
    "# summary(Decoder(2,AFFN_KERNEL,AFFN_STRIDE),(16,32,142))"
   ]
  },
  {
   "cell_type": "code",
   "execution_count": null,
   "id": "25f58311",
   "metadata": {
    "execution": {
     "iopub.execute_input": "2025-03-11T10:31:12.314135Z",
     "iopub.status.busy": "2025-03-11T10:31:12.313893Z",
     "iopub.status.idle": "2025-03-11T10:31:12.320401Z",
     "shell.execute_reply": "2025-03-11T10:31:12.319573Z"
    },
    "papermill": {
     "duration": 0.014576,
     "end_time": "2025-03-11T10:31:12.321926",
     "exception": false,
     "start_time": "2025-03-11T10:31:12.307350",
     "status": "completed"
    },
    "tags": []
   },
   "outputs": [],
   "source": [
    "class AFFN(nn.Module):\n",
    "    def __init__(self,n):\n",
    "        super().__init__()\n",
    "        self.n=n\n",
    "        # self.test=nn.Linear(1,2)\n",
    "        self.alpha=nn.Parameter(torch.randn(n-1).to(device)).to(device)\n",
    "        self.encoders=[]\n",
    "        for i in range(1,n+1):\n",
    "            self.encoders.append(Encoder(i,AFFN_KERNEL,AFFN_STRIDE).to(device))\n",
    "\n",
    "        self.decoders=[]\n",
    "        for i in range(n,0,-1):\n",
    "            self.decoders.append(Decoder(i,AFFN_KERNEL,AFFN_STRIDE).to(device))\n",
    "            \n",
    "    def forward(self, x):\n",
    "        residuals = []\n",
    "        for i, enc in enumerate(self.encoders):\n",
    "            x = enc(x)\n",
    "            if i < self.n - 1:\n",
    "                x = x * (1 - self.alpha[i])  \n",
    "                residuals.append(x * self.alpha[i])\n",
    "    \n",
    "        for i, dec in enumerate(self.decoders):\n",
    "            x = dec(x)\n",
    "            if i < self.n - 1:\n",
    "                x = x + residuals.pop()\n",
    "    \n",
    "        return x\n",
    "        "
   ]
  },
  {
   "cell_type": "markdown",
   "id": "21f81c9c",
   "metadata": {
    "papermill": {
     "duration": 0.005817,
     "end_time": "2025-03-11T10:31:12.350213",
     "exception": false,
     "start_time": "2025-03-11T10:31:12.344396",
     "status": "completed"
    },
    "tags": []
   },
   "source": [
    "## CRNN\n"
   ]
  },
  {
   "cell_type": "code",
   "execution_count": 14,
   "id": "2fc51a51",
   "metadata": {
    "execution": {
     "iopub.execute_input": "2025-03-11T10:31:12.362608Z",
     "iopub.status.busy": "2025-03-11T10:31:12.362377Z",
     "iopub.status.idle": "2025-03-11T10:31:12.370946Z",
     "shell.execute_reply": "2025-03-11T10:31:12.370122Z"
    },
    "papermill": {
     "duration": 0.016388,
     "end_time": "2025-03-11T10:31:12.372387",
     "exception": false,
     "start_time": "2025-03-11T10:31:12.355999",
     "status": "completed"
    },
    "tags": []
   },
   "outputs": [],
   "source": [
    "class CRNN(nn.Module):\n",
    "    def __init__(self,in_channels,kernel_size,pool_kernel_size,dropout,latent_dim,lstm_hidden_dim,vocab_size,output_length):\n",
    "        super().__init__()\n",
    "        self.lstm_hidden_dim=lstm_hidden_dim\n",
    "        self.output_length=output_length\n",
    "        \n",
    "        self.conv1=nn.Sequential(\n",
    "            nn.Conv2d(in_channels=in_channels,out_channels=in_channels*2,kernel_size=kernel_size,padding=2),\n",
    "            nn.BatchNorm2d(num_features=in_channels*2),\n",
    "            nn.ReLU(inplace=False),\n",
    "            nn.MaxPool2d(kernel_size=pool_kernel_size)\n",
    "        )\n",
    "\n",
    "        self.conv2=nn.Sequential(\n",
    "                    nn.Conv2d(in_channels=in_channels*2,out_channels=in_channels*4,kernel_size=kernel_size,padding=2),\n",
    "                    nn.BatchNorm2d(num_features=in_channels*4),\n",
    "                    nn.ReLU(inplace=False),\n",
    "                    nn.MaxPool2d(kernel_size=pool_kernel_size)\n",
    "                )\n",
    "\n",
    "        self.flatten=nn.Flatten()\n",
    "        self.dropout=nn.Dropout(dropout)\n",
    "\n",
    "        self.latent_fc=nn.LazyLinear(latent_dim)\n",
    "\n",
    "        self.lstm=nn.LSTM(input_size=latent_dim,hidden_size=lstm_hidden_dim,num_layers=1)\n",
    "\n",
    "        self.output_fc=nn.Linear(lstm_hidden_dim,vocab_size)\n",
    "        self.softmax=nn.Softmax()\n",
    "\n",
    "    def forward(self,x):\n",
    "        conv1_out=self.conv1(x)\n",
    "        conv2_out=self.conv2(conv1_out)\n",
    "        flattened=self.flatten(conv2_out)\n",
    "        dropped=self.dropout(flattened)\n",
    "        final=self.latent_fc(dropped)\n",
    "\n",
    "        output=[]\n",
    "\n",
    "        h,c=torch.zeros(1,self.lstm_hidden_dim).to(device),torch.zeros(1,self.lstm_hidden_dim).to(device)\n",
    "        for i in range(self.output_length):\n",
    "            out,(h,c)=self.lstm(final,(h,c))\n",
    "            out=self.output_fc(out)\n",
    "            out_softmax=F.softmax(out,dim=-1)\n",
    "            output.append(out_softmax)\n",
    "        output=torch.permute(torch.stack(output),(1,2,0))\n",
    "        return output"
   ]
  },
  {
   "cell_type": "code",
   "execution_count": null,
   "id": "a1b8035d",
   "metadata": {
    "execution": {
     "iopub.execute_input": "2025-03-11T10:31:12.383682Z",
     "iopub.status.busy": "2025-03-11T10:31:12.383449Z",
     "iopub.status.idle": "2025-03-11T10:31:12.390732Z",
     "shell.execute_reply": "2025-03-11T10:31:12.390015Z"
    },
    "papermill": {
     "duration": 0.014226,
     "end_time": "2025-03-11T10:31:12.392036",
     "exception": false,
     "start_time": "2025-03-11T10:31:12.377810",
     "status": "completed"
    },
    "tags": []
   },
   "outputs": [],
   "source": [
    "class CRNN(nn.Module):\n",
    "    def __init__(self, in_channels, kernel_size, pool_kernel_size, dropout, latent_dim, lstm_hidden_dim, vocab_size, output_length=5):\n",
    "        super().__init__()\n",
    "        self.lstm_hidden_dim = lstm_hidden_dim\n",
    "        self.output_length = output_length  # Should be 5 for 5 characters\n",
    "        self.vocab_size = vocab_size\n",
    "        \n",
    "        self.conv1 = nn.Sequential(\n",
    "            nn.Conv2d(in_channels=in_channels, out_channels=in_channels*2, kernel_size=kernel_size, padding=2),\n",
    "            nn.BatchNorm2d(num_features=in_channels*2),\n",
    "            nn.ReLU(inplace=False),\n",
    "            nn.MaxPool2d(kernel_size=pool_kernel_size)\n",
    "        )\n",
    "        self.conv2 = nn.Sequential(\n",
    "            nn.Conv2d(in_channels=in_channels*2, out_channels=in_channels*4, kernel_size=kernel_size, padding=2),\n",
    "            nn.BatchNorm2d(num_features=in_channels*4),\n",
    "            nn.ReLU(inplace=False),\n",
    "            nn.MaxPool2d(kernel_size=pool_kernel_size)\n",
    "        )\n",
    "        self.flatten = nn.Flatten()\n",
    "        self.dropout = nn.Dropout(dropout)\n",
    "        self.latent_fc = nn.LazyLinear(latent_dim)\n",
    "        self.lstm = nn.LSTM(input_size=latent_dim, hidden_size=lstm_hidden_dim, num_layers=1, batch_first=True)\n",
    "        self.output_fc = nn.Linear(lstm_hidden_dim, vocab_size)\n",
    "    \n",
    "    def forward(self, x):\n",
    "        batch_size = x.size(0)\n",
    "        \n",
    "        # CNN feature extraction\n",
    "        conv1_out = self.conv1(x)\n",
    "        conv2_out = self.conv2(conv1_out)\n",
    "        flattened = self.flatten(conv2_out)\n",
    "        dropped = self.dropout(flattened)\n",
    "        latent = self.latent_fc(dropped)\n",
    "        \n",
    "        lstm_input = latent.unsqueeze(1) \n",
    "        \n",
    "        # Initialize hidden and cell states\n",
    "        h0 = torch.zeros(1, batch_size, self.lstm_hidden_dim, device=x.device)\n",
    "        c0 = torch.zeros(1, batch_size, self.lstm_hidden_dim, device=x.device)\n",
    "        \n",
    "        outputs = []\n",
    "        \n",
    "        # Generate 5 characters sequentially\n",
    "        for _ in range(self.output_length):\n",
    "            out, (h0, c0) = self.lstm(lstm_input, (h0, c0))  # out shape: (batch_size, 1, lstm_hidden_dim)\n",
    "            \n",
    "            logits = self.output_fc(out.squeeze(1))  # Shape: (batch_size, vocab_size)\n",
    "            \n",
    "            outputs.append(logits)\n",
    "\n",
    "        outputs = torch.stack(outputs, dim=1)  # Shape: (batch_size, 5, vocab_size)\n",
    "        \n",
    "        return outputs"
   ]
  },
  {
   "cell_type": "code",
   "execution_count": 16,
   "id": "36f7b042",
   "metadata": {
    "execution": {
     "iopub.execute_input": "2025-03-11T10:31:12.402685Z",
     "iopub.status.busy": "2025-03-11T10:31:12.402369Z",
     "iopub.status.idle": "2025-03-11T10:31:13.262907Z",
     "shell.execute_reply": "2025-03-11T10:31:13.261899Z"
    },
    "papermill": {
     "duration": 0.867577,
     "end_time": "2025-03-11T10:31:13.264522",
     "exception": false,
     "start_time": "2025-03-11T10:31:12.396945",
     "status": "completed"
    },
    "scrolled": true,
    "tags": []
   },
   "outputs": [],
   "source": [
    "output=CRNN(64,CRNN_KERNEL,CRNN_POOL_KERNEL,CRNN_DROPOUT,CRNN_LATENT,LSTM_HIDDEN_DIM,VOCAB_SIZE,OUTPUT_LENGTH).to(device)(torch.zeros((2,64,256,256)).to(device))"
   ]
  },
  {
   "cell_type": "code",
   "execution_count": 17,
   "id": "722ddeae",
   "metadata": {
    "execution": {
     "iopub.execute_input": "2025-03-11T10:31:13.275581Z",
     "iopub.status.busy": "2025-03-11T10:31:13.275336Z",
     "iopub.status.idle": "2025-03-11T10:31:13.280876Z",
     "shell.execute_reply": "2025-03-11T10:31:13.280205Z"
    },
    "papermill": {
     "duration": 0.012302,
     "end_time": "2025-03-11T10:31:13.282034",
     "exception": false,
     "start_time": "2025-03-11T10:31:13.269732",
     "status": "completed"
    },
    "tags": []
   },
   "outputs": [
    {
     "data": {
      "text/plain": [
       "torch.Size([2, 5, 62])"
      ]
     },
     "execution_count": 17,
     "metadata": {},
     "output_type": "execute_result"
    }
   ],
   "source": [
    "output.shape"
   ]
  },
  {
   "cell_type": "code",
   "execution_count": 18,
   "id": "f8ae2546",
   "metadata": {
    "execution": {
     "iopub.execute_input": "2025-03-11T10:31:13.292705Z",
     "iopub.status.busy": "2025-03-11T10:31:13.292471Z",
     "iopub.status.idle": "2025-03-11T10:31:13.298282Z",
     "shell.execute_reply": "2025-03-11T10:31:13.297667Z"
    },
    "papermill": {
     "duration": 0.012552,
     "end_time": "2025-03-11T10:31:13.299443",
     "exception": false,
     "start_time": "2025-03-11T10:31:13.286891",
     "status": "completed"
    },
    "tags": []
   },
   "outputs": [],
   "source": [
    "class CaptchaCrackNet(nn.Module):\n",
    "    def __init__(self):\n",
    "        super().__init__()\n",
    "        self.affn=AFFN(AFFN_DEPTH).to(device)\n",
    "\n",
    "        self.conv1=nn.Sequential(\n",
    "            nn.Conv2d(in_channels=1,out_channels=32,kernel_size=5,padding=2),\n",
    "            nn.ReLU(inplace=False),\n",
    "            nn.MaxPool2d(kernel_size=2)\n",
    "        )\n",
    "\n",
    "        self.conv2=nn.Sequential(\n",
    "                    nn.Conv2d(in_channels=32,out_channels=48,kernel_size=5,padding=2),\n",
    "                    nn.ReLU(inplace=False),\n",
    "                    nn.MaxPool2d(kernel_size=2)\n",
    "                )\n",
    "\n",
    "        self.conv3=nn.Sequential(\n",
    "            nn.Conv2d(in_channels=48,out_channels=64,kernel_size=5,padding=2),\n",
    "            nn.ReLU(inplace=False),\n",
    "            nn.MaxPool2d(kernel_size=2)\n",
    "        )\n",
    "\n",
    "        self.res=nn.Conv2d(in_channels=1, out_channels=32, kernel_size=5, stride=2, padding=2)\n",
    "\n",
    "        self.crnn=CRNN(64,CRNN_KERNEL,CRNN_POOL_KERNEL,CRNN_DROPOUT,CRNN_LATENT,LSTM_HIDDEN_DIM,VOCAB_SIZE,OUTPUT_LENGTH).to(device)\n",
    "\n",
    "    def forward(self,x):\n",
    "        affn_out=self.affn(x)\n",
    "        res_out=self.res(x)\n",
    "        conv1_out=self.conv1(affn_out)\n",
    "        conv2_out=self.conv2(conv1_out+res_out)\n",
    "        conv3_out=self.conv3(conv2_out)\n",
    "        output=self.crnn(conv3_out)\n",
    "        return output\n",
    "        "
   ]
  },
  {
   "cell_type": "code",
   "execution_count": 19,
   "id": "fa940b1b",
   "metadata": {
    "execution": {
     "iopub.execute_input": "2025-03-11T10:31:13.309954Z",
     "iopub.status.busy": "2025-03-11T10:31:13.309750Z",
     "iopub.status.idle": "2025-03-11T10:31:13.340088Z",
     "shell.execute_reply": "2025-03-11T10:31:13.339307Z"
    },
    "papermill": {
     "duration": 0.03687,
     "end_time": "2025-03-11T10:31:13.341250",
     "exception": false,
     "start_time": "2025-03-11T10:31:13.304380",
     "status": "completed"
    },
    "tags": []
   },
   "outputs": [
    {
     "data": {
      "text/plain": [
       "CaptchaCrackNet(\n",
       "  (affn): AFFN()\n",
       "  (conv1): Sequential(\n",
       "    (0): Conv2d(1, 32, kernel_size=(5, 5), stride=(1, 1), padding=(2, 2))\n",
       "    (1): ReLU()\n",
       "    (2): MaxPool2d(kernel_size=2, stride=2, padding=0, dilation=1, ceil_mode=False)\n",
       "  )\n",
       "  (conv2): Sequential(\n",
       "    (0): Conv2d(32, 48, kernel_size=(5, 5), stride=(1, 1), padding=(2, 2))\n",
       "    (1): ReLU()\n",
       "    (2): MaxPool2d(kernel_size=2, stride=2, padding=0, dilation=1, ceil_mode=False)\n",
       "  )\n",
       "  (conv3): Sequential(\n",
       "    (0): Conv2d(48, 64, kernel_size=(5, 5), stride=(1, 1), padding=(2, 2))\n",
       "    (1): ReLU()\n",
       "    (2): MaxPool2d(kernel_size=2, stride=2, padding=0, dilation=1, ceil_mode=False)\n",
       "  )\n",
       "  (res): Conv2d(1, 32, kernel_size=(5, 5), stride=(2, 2), padding=(2, 2))\n",
       "  (crnn): CRNN(\n",
       "    (conv1): Sequential(\n",
       "      (0): Conv2d(64, 128, kernel_size=(5, 5), stride=(1, 1), padding=(2, 2))\n",
       "      (1): BatchNorm2d(128, eps=1e-05, momentum=0.1, affine=True, track_running_stats=True)\n",
       "      (2): ReLU()\n",
       "      (3): MaxPool2d(kernel_size=2, stride=2, padding=0, dilation=1, ceil_mode=False)\n",
       "    )\n",
       "    (conv2): Sequential(\n",
       "      (0): Conv2d(128, 256, kernel_size=(5, 5), stride=(1, 1), padding=(2, 2))\n",
       "      (1): BatchNorm2d(256, eps=1e-05, momentum=0.1, affine=True, track_running_stats=True)\n",
       "      (2): ReLU()\n",
       "      (3): MaxPool2d(kernel_size=2, stride=2, padding=0, dilation=1, ceil_mode=False)\n",
       "    )\n",
       "    (flatten): Flatten(start_dim=1, end_dim=-1)\n",
       "    (dropout): Dropout(p=0.3, inplace=False)\n",
       "    (latent_fc): LazyLinear(in_features=0, out_features=128, bias=True)\n",
       "    (lstm): LSTM(128, 32, batch_first=True)\n",
       "    (output_fc): Linear(in_features=32, out_features=62, bias=True)\n",
       "  )\n",
       ")"
      ]
     },
     "execution_count": 19,
     "metadata": {},
     "output_type": "execute_result"
    }
   ],
   "source": [
    "CaptchaCrackNet()"
   ]
  },
  {
   "cell_type": "code",
   "execution_count": 22,
   "id": "38e12858",
   "metadata": {
    "execution": {
     "iopub.execute_input": "2025-03-11T10:31:14.988522Z",
     "iopub.status.busy": "2025-03-11T10:31:14.988270Z",
     "iopub.status.idle": "2025-03-11T10:31:14.996052Z",
     "shell.execute_reply": "2025-03-11T10:31:14.995434Z"
    },
    "papermill": {
     "duration": 0.014852,
     "end_time": "2025-03-11T10:31:14.997150",
     "exception": false,
     "start_time": "2025-03-11T10:31:14.982298",
     "status": "completed"
    },
    "tags": []
   },
   "outputs": [],
   "source": [
    "def loss_fn(preds,target):\n",
    "    ce_loss=F.cross_entropy(preds,target)\n",
    "    # ctc_loss=F.ctc_loss(preds,target,torch.tensor(OUTPUT_LENGTH),torch.tensor(OUTPUT_LENGTH))\n",
    "\n",
    "    # total_loss=ce_loss#+ctc_loss\n",
    "    return ce_loss\n",
    "\n",
    "\n",
    "def train(model,train_loader,val_loader,optimizer,loss_fn,epochs):\n",
    "    train_history=[]\n",
    "    val_history=[]\n",
    "    model.to(device)\n",
    "    for epoch in range(1,epochs+1):\n",
    "        print(f\"Epoch {epoch}:\")\n",
    "        model.train()\n",
    "        avg_loss=0\n",
    "        for batch_num,(X,y) in enumerate(tqdm(train_loader,desc=\"Progress: \")):\n",
    "            X=X.to(device)\n",
    "            y=y.to(device)\n",
    "            optimizer.zero_grad()\n",
    "            preds=model(X)\n",
    "            \n",
    "            loss=loss_fn(preds.view(-1, VOCAB_SIZE),y.view(-1))\n",
    "            loss.backward()\n",
    "            optimizer.step()\n",
    "            \n",
    "            avg_loss+=loss.item()\n",
    "        avg_loss/=len(train_loader)\n",
    "        train_history.append(avg_loss)\n",
    "        print(f\"Loss: {avg_loss}\")\n",
    "\n",
    "        eval_loss=0\n",
    "        if VAL_EPOCH and epoch%VAL_EPOCH==0:\n",
    "            model.eval()\n",
    "            with torch.no_grad():\n",
    "                for batch_num,(X,y) in enumerate(tqdm(val_loader,desc=\"Progress: \")):\n",
    "                    X=X.to(device)\n",
    "                    y=y.to(device)\n",
    "                    preds=model(X)\n",
    "                    loss=loss_fn(preds.view(-1, VOCAB_SIZE),y.view(-1))\n",
    "        \n",
    "                    eval_loss+=loss.item()\n",
    "                eval_loss/=len(val_loader)\n",
    "                val_history.append(eval_loss)\n",
    "                print(f\"Val Loss: {eval_loss}\",eval_loss)\n",
    "\n",
    "        if SAVE_EPOCH and epoch%SAVE_EPOCH==0:\n",
    "            print(\"Saving model\")\n",
    "            path=str(epoch)+'.pth'\n",
    "            torch.save(model.state_dict(), path)\n",
    "    torch.save(model.state_dict(),'final.pth')\n",
    "    return train_history,val_history"
   ]
  },
  {
   "cell_type": "code",
   "execution_count": 23,
   "id": "ce1e24e3",
   "metadata": {
    "execution": {
     "iopub.execute_input": "2025-03-11T10:31:15.008236Z",
     "iopub.status.busy": "2025-03-11T10:31:15.008021Z",
     "iopub.status.idle": "2025-03-11T10:31:15.038928Z",
     "shell.execute_reply": "2025-03-11T10:31:15.038057Z"
    },
    "papermill": {
     "duration": 0.037996,
     "end_time": "2025-03-11T10:31:15.040245",
     "exception": false,
     "start_time": "2025-03-11T10:31:15.002249",
     "status": "completed"
    },
    "tags": []
   },
   "outputs": [],
   "source": [
    "model=CaptchaCrackNet().to(device)\n",
    "optimizer=torch.optim.Adam(model.parameters())"
   ]
  },
  {
   "cell_type": "code",
   "execution_count": 24,
   "id": "49e15953",
   "metadata": {
    "execution": {
     "iopub.execute_input": "2025-03-11T10:31:15.051025Z",
     "iopub.status.busy": "2025-03-11T10:31:15.050820Z",
     "iopub.status.idle": "2025-03-11T12:23:28.840699Z",
     "shell.execute_reply": "2025-03-11T12:23:28.839588Z"
    },
    "papermill": {
     "duration": 6733.796898,
     "end_time": "2025-03-11T12:23:28.842285",
     "exception": false,
     "start_time": "2025-03-11T10:31:15.045387",
     "status": "completed"
    },
    "tags": []
   },
   "outputs": [
    {
     "name": "stdout",
     "output_type": "stream",
     "text": [
      "Epoch 1:\n"
     ]
    },
    {
     "name": "stderr",
     "output_type": "stream",
     "text": [
      "Progress: 100%|██████████| 840/840 [05:36<00:00,  2.50it/s]\n"
     ]
    },
    {
     "name": "stdout",
     "output_type": "stream",
     "text": [
      "Loss: 4.077705801668621\n"
     ]
    },
    {
     "name": "stderr",
     "output_type": "stream",
     "text": [
      "Progress: 100%|██████████| 45/45 [00:17<00:00,  2.52it/s]\n"
     ]
    },
    {
     "name": "stdout",
     "output_type": "stream",
     "text": [
      "Val Loss: 4.060507509443495 4.060507509443495\n",
      "Epoch 2:\n"
     ]
    },
    {
     "name": "stderr",
     "output_type": "stream",
     "text": [
      "Progress: 100%|██████████| 840/840 [02:36<00:00,  5.38it/s]\n"
     ]
    },
    {
     "name": "stdout",
     "output_type": "stream",
     "text": [
      "Loss: 4.022004405941282\n"
     ]
    },
    {
     "name": "stderr",
     "output_type": "stream",
     "text": [
      "Progress: 100%|██████████| 45/45 [00:08<00:00,  5.44it/s]\n"
     ]
    },
    {
     "name": "stdout",
     "output_type": "stream",
     "text": [
      "Val Loss: 3.9996608628167047 3.9996608628167047\n",
      "Epoch 3:\n"
     ]
    },
    {
     "name": "stderr",
     "output_type": "stream",
     "text": [
      "Progress: 100%|██████████| 840/840 [02:35<00:00,  5.42it/s]\n"
     ]
    },
    {
     "name": "stdout",
     "output_type": "stream",
     "text": [
      "Loss: 3.948636395022983\n"
     ]
    },
    {
     "name": "stderr",
     "output_type": "stream",
     "text": [
      "Progress: 100%|██████████| 45/45 [00:07<00:00,  5.66it/s]\n"
     ]
    },
    {
     "name": "stdout",
     "output_type": "stream",
     "text": [
      "Val Loss: 3.9257496251000297 3.9257496251000297\n",
      "Epoch 4:\n"
     ]
    },
    {
     "name": "stderr",
     "output_type": "stream",
     "text": [
      "Progress: 100%|██████████| 840/840 [02:43<00:00,  5.13it/s]\n"
     ]
    },
    {
     "name": "stdout",
     "output_type": "stream",
     "text": [
      "Loss: 3.854771889959063\n"
     ]
    },
    {
     "name": "stderr",
     "output_type": "stream",
     "text": [
      "Progress: 100%|██████████| 45/45 [00:08<00:00,  5.47it/s]\n"
     ]
    },
    {
     "name": "stdout",
     "output_type": "stream",
     "text": [
      "Val Loss: 3.7686371750301784 3.7686371750301784\n",
      "Epoch 5:\n"
     ]
    },
    {
     "name": "stderr",
     "output_type": "stream",
     "text": [
      "Progress: 100%|██████████| 840/840 [02:37<00:00,  5.35it/s]\n"
     ]
    },
    {
     "name": "stdout",
     "output_type": "stream",
     "text": [
      "Loss: 3.5890312319710143\n"
     ]
    },
    {
     "name": "stderr",
     "output_type": "stream",
     "text": [
      "Progress: 100%|██████████| 45/45 [00:08<00:00,  5.46it/s]\n"
     ]
    },
    {
     "name": "stdout",
     "output_type": "stream",
     "text": [
      "Val Loss: 3.408281103769938 3.408281103769938\n",
      "Epoch 6:\n"
     ]
    },
    {
     "name": "stderr",
     "output_type": "stream",
     "text": [
      "Progress: 100%|██████████| 840/840 [02:34<00:00,  5.44it/s]\n"
     ]
    },
    {
     "name": "stdout",
     "output_type": "stream",
     "text": [
      "Loss: 3.181332773537863\n"
     ]
    },
    {
     "name": "stderr",
     "output_type": "stream",
     "text": [
      "Progress: 100%|██████████| 45/45 [00:08<00:00,  5.45it/s]\n"
     ]
    },
    {
     "name": "stdout",
     "output_type": "stream",
     "text": [
      "Val Loss: 2.9125840346018474 2.9125840346018474\n",
      "Epoch 7:\n"
     ]
    },
    {
     "name": "stderr",
     "output_type": "stream",
     "text": [
      "Progress: 100%|██████████| 840/840 [02:33<00:00,  5.48it/s]\n"
     ]
    },
    {
     "name": "stdout",
     "output_type": "stream",
     "text": [
      "Loss: 2.7179303401992434\n"
     ]
    },
    {
     "name": "stderr",
     "output_type": "stream",
     "text": [
      "Progress: 100%|██████████| 45/45 [00:08<00:00,  5.39it/s]\n"
     ]
    },
    {
     "name": "stdout",
     "output_type": "stream",
     "text": [
      "Val Loss: 2.5070218563079836 2.5070218563079836\n",
      "Epoch 8:\n"
     ]
    },
    {
     "name": "stderr",
     "output_type": "stream",
     "text": [
      "Progress: 100%|██████████| 840/840 [02:37<00:00,  5.33it/s]\n"
     ]
    },
    {
     "name": "stdout",
     "output_type": "stream",
     "text": [
      "Loss: 2.358887299469539\n"
     ]
    },
    {
     "name": "stderr",
     "output_type": "stream",
     "text": [
      "Progress: 100%|██████████| 45/45 [00:08<00:00,  5.59it/s]\n"
     ]
    },
    {
     "name": "stdout",
     "output_type": "stream",
     "text": [
      "Val Loss: 2.1798188739352757 2.1798188739352757\n",
      "Epoch 9:\n"
     ]
    },
    {
     "name": "stderr",
     "output_type": "stream",
     "text": [
      "Progress: 100%|██████████| 840/840 [02:32<00:00,  5.52it/s]\n"
     ]
    },
    {
     "name": "stdout",
     "output_type": "stream",
     "text": [
      "Loss: 2.0779299604041235\n"
     ]
    },
    {
     "name": "stderr",
     "output_type": "stream",
     "text": [
      "Progress: 100%|██████████| 45/45 [00:08<00:00,  5.56it/s]\n"
     ]
    },
    {
     "name": "stdout",
     "output_type": "stream",
     "text": [
      "Val Loss: 1.8987126323911878 1.8987126323911878\n",
      "Epoch 10:\n"
     ]
    },
    {
     "name": "stderr",
     "output_type": "stream",
     "text": [
      "Progress: 100%|██████████| 840/840 [02:32<00:00,  5.50it/s]\n"
     ]
    },
    {
     "name": "stdout",
     "output_type": "stream",
     "text": [
      "Loss: 1.818781491404488\n"
     ]
    },
    {
     "name": "stderr",
     "output_type": "stream",
     "text": [
      "Progress: 100%|██████████| 45/45 [00:08<00:00,  5.20it/s]\n"
     ]
    },
    {
     "name": "stdout",
     "output_type": "stream",
     "text": [
      "Val Loss: 1.659015989303589 1.659015989303589\n",
      "Saving model\n",
      "Epoch 11:\n"
     ]
    },
    {
     "name": "stderr",
     "output_type": "stream",
     "text": [
      "Progress: 100%|██████████| 840/840 [02:39<00:00,  5.28it/s]\n"
     ]
    },
    {
     "name": "stdout",
     "output_type": "stream",
     "text": [
      "Loss: 1.6049985417297907\n"
     ]
    },
    {
     "name": "stderr",
     "output_type": "stream",
     "text": [
      "Progress: 100%|██████████| 45/45 [00:08<00:00,  5.60it/s]\n"
     ]
    },
    {
     "name": "stdout",
     "output_type": "stream",
     "text": [
      "Val Loss: 1.495680030186971 1.495680030186971\n",
      "Epoch 12:\n"
     ]
    },
    {
     "name": "stderr",
     "output_type": "stream",
     "text": [
      "Progress: 100%|██████████| 840/840 [02:31<00:00,  5.54it/s]\n"
     ]
    },
    {
     "name": "stdout",
     "output_type": "stream",
     "text": [
      "Loss: 1.4386764807360513\n"
     ]
    },
    {
     "name": "stderr",
     "output_type": "stream",
     "text": [
      "Progress: 100%|██████████| 45/45 [00:07<00:00,  5.68it/s]\n"
     ]
    },
    {
     "name": "stdout",
     "output_type": "stream",
     "text": [
      "Val Loss: 1.3311320384343466 1.3311320384343466\n",
      "Epoch 13:\n"
     ]
    },
    {
     "name": "stderr",
     "output_type": "stream",
     "text": [
      "Progress: 100%|██████████| 840/840 [02:33<00:00,  5.49it/s]\n"
     ]
    },
    {
     "name": "stdout",
     "output_type": "stream",
     "text": [
      "Loss: 1.3078664588076727\n"
     ]
    },
    {
     "name": "stderr",
     "output_type": "stream",
     "text": [
      "Progress: 100%|██████████| 45/45 [00:08<00:00,  5.45it/s]\n"
     ]
    },
    {
     "name": "stdout",
     "output_type": "stream",
     "text": [
      "Val Loss: 1.2313578075832792 1.2313578075832792\n",
      "Epoch 14:\n"
     ]
    },
    {
     "name": "stderr",
     "output_type": "stream",
     "text": [
      "Progress: 100%|██████████| 840/840 [02:31<00:00,  5.53it/s]\n"
     ]
    },
    {
     "name": "stdout",
     "output_type": "stream",
     "text": [
      "Loss: 1.1968632409969966\n"
     ]
    },
    {
     "name": "stderr",
     "output_type": "stream",
     "text": [
      "Progress: 100%|██████████| 45/45 [00:07<00:00,  5.72it/s]\n"
     ]
    },
    {
     "name": "stdout",
     "output_type": "stream",
     "text": [
      "Val Loss: 1.1237595001856486 1.1237595001856486\n",
      "Epoch 15:\n"
     ]
    },
    {
     "name": "stderr",
     "output_type": "stream",
     "text": [
      "Progress: 100%|██████████| 840/840 [02:35<00:00,  5.39it/s]\n"
     ]
    },
    {
     "name": "stdout",
     "output_type": "stream",
     "text": [
      "Loss: 1.102551771913256\n"
     ]
    },
    {
     "name": "stderr",
     "output_type": "stream",
     "text": [
      "Progress: 100%|██████████| 45/45 [00:07<00:00,  5.73it/s]\n"
     ]
    },
    {
     "name": "stdout",
     "output_type": "stream",
     "text": [
      "Val Loss: 1.0561993877092997 1.0561993877092997\n",
      "Epoch 16:\n"
     ]
    },
    {
     "name": "stderr",
     "output_type": "stream",
     "text": [
      "Progress: 100%|██████████| 840/840 [02:35<00:00,  5.40it/s]\n"
     ]
    },
    {
     "name": "stdout",
     "output_type": "stream",
     "text": [
      "Loss: 1.021106191476186\n"
     ]
    },
    {
     "name": "stderr",
     "output_type": "stream",
     "text": [
      "Progress: 100%|██████████| 45/45 [00:08<00:00,  5.19it/s]\n"
     ]
    },
    {
     "name": "stdout",
     "output_type": "stream",
     "text": [
      "Val Loss: 0.9942915081977844 0.9942915081977844\n",
      "Epoch 17:\n"
     ]
    },
    {
     "name": "stderr",
     "output_type": "stream",
     "text": [
      "Progress: 100%|██████████| 840/840 [02:31<00:00,  5.56it/s]\n"
     ]
    },
    {
     "name": "stdout",
     "output_type": "stream",
     "text": [
      "Loss: 0.9530354895052455\n"
     ]
    },
    {
     "name": "stderr",
     "output_type": "stream",
     "text": [
      "Progress: 100%|██████████| 45/45 [00:08<00:00,  5.57it/s]\n"
     ]
    },
    {
     "name": "stdout",
     "output_type": "stream",
     "text": [
      "Val Loss: 0.9398895329899258 0.9398895329899258\n",
      "Epoch 18:\n"
     ]
    },
    {
     "name": "stderr",
     "output_type": "stream",
     "text": [
      "Progress: 100%|██████████| 840/840 [02:33<00:00,  5.47it/s]\n"
     ]
    },
    {
     "name": "stdout",
     "output_type": "stream",
     "text": [
      "Loss: 0.8953236938942046\n"
     ]
    },
    {
     "name": "stderr",
     "output_type": "stream",
     "text": [
      "Progress: 100%|██████████| 45/45 [00:08<00:00,  5.61it/s]\n"
     ]
    },
    {
     "name": "stdout",
     "output_type": "stream",
     "text": [
      "Val Loss: 0.8901027957598369 0.8901027957598369\n",
      "Epoch 19:\n"
     ]
    },
    {
     "name": "stderr",
     "output_type": "stream",
     "text": [
      "Progress: 100%|██████████| 840/840 [02:34<00:00,  5.45it/s]\n"
     ]
    },
    {
     "name": "stdout",
     "output_type": "stream",
     "text": [
      "Loss: 0.8453428164834068\n"
     ]
    },
    {
     "name": "stderr",
     "output_type": "stream",
     "text": [
      "Progress: 100%|██████████| 45/45 [00:08<00:00,  5.62it/s]\n"
     ]
    },
    {
     "name": "stdout",
     "output_type": "stream",
     "text": [
      "Val Loss: 0.862260209189521 0.862260209189521\n",
      "Epoch 20:\n"
     ]
    },
    {
     "name": "stderr",
     "output_type": "stream",
     "text": [
      "Progress: 100%|██████████| 840/840 [02:34<00:00,  5.45it/s]\n"
     ]
    },
    {
     "name": "stdout",
     "output_type": "stream",
     "text": [
      "Loss: 0.8015024635053817\n"
     ]
    },
    {
     "name": "stderr",
     "output_type": "stream",
     "text": [
      "Progress: 100%|██████████| 45/45 [00:08<00:00,  5.40it/s]\n"
     ]
    },
    {
     "name": "stdout",
     "output_type": "stream",
     "text": [
      "Val Loss: 0.8378677752282885 0.8378677752282885\n",
      "Saving model\n",
      "Epoch 21:\n"
     ]
    },
    {
     "name": "stderr",
     "output_type": "stream",
     "text": [
      "Progress: 100%|██████████| 840/840 [02:36<00:00,  5.36it/s]\n"
     ]
    },
    {
     "name": "stdout",
     "output_type": "stream",
     "text": [
      "Loss: 0.7629245455066364\n"
     ]
    },
    {
     "name": "stderr",
     "output_type": "stream",
     "text": [
      "Progress: 100%|██████████| 45/45 [00:09<00:00,  4.99it/s]\n"
     ]
    },
    {
     "name": "stdout",
     "output_type": "stream",
     "text": [
      "Val Loss: 0.8004685759544372 0.8004685759544372\n",
      "Epoch 22:\n"
     ]
    },
    {
     "name": "stderr",
     "output_type": "stream",
     "text": [
      "Progress: 100%|██████████| 840/840 [02:42<00:00,  5.18it/s]\n"
     ]
    },
    {
     "name": "stdout",
     "output_type": "stream",
     "text": [
      "Loss: 0.7280396692809604\n"
     ]
    },
    {
     "name": "stderr",
     "output_type": "stream",
     "text": [
      "Progress: 100%|██████████| 45/45 [00:08<00:00,  5.46it/s]\n"
     ]
    },
    {
     "name": "stdout",
     "output_type": "stream",
     "text": [
      "Val Loss: 0.7739739629957411 0.7739739629957411\n",
      "Epoch 23:\n"
     ]
    },
    {
     "name": "stderr",
     "output_type": "stream",
     "text": [
      "Progress: 100%|██████████| 840/840 [02:41<00:00,  5.21it/s]\n"
     ]
    },
    {
     "name": "stdout",
     "output_type": "stream",
     "text": [
      "Loss: 0.6981941361512457\n"
     ]
    },
    {
     "name": "stderr",
     "output_type": "stream",
     "text": [
      "Progress: 100%|██████████| 45/45 [00:08<00:00,  5.50it/s]\n"
     ]
    },
    {
     "name": "stdout",
     "output_type": "stream",
     "text": [
      "Val Loss: 0.7622136937247382 0.7622136937247382\n",
      "Epoch 24:\n"
     ]
    },
    {
     "name": "stderr",
     "output_type": "stream",
     "text": [
      "Progress: 100%|██████████| 840/840 [02:43<00:00,  5.12it/s]\n"
     ]
    },
    {
     "name": "stdout",
     "output_type": "stream",
     "text": [
      "Loss: 0.6678832892151106\n"
     ]
    },
    {
     "name": "stderr",
     "output_type": "stream",
     "text": [
      "Progress: 100%|██████████| 45/45 [00:08<00:00,  5.41it/s]\n"
     ]
    },
    {
     "name": "stdout",
     "output_type": "stream",
     "text": [
      "Val Loss: 0.7411464585198296 0.7411464585198296\n",
      "Epoch 25:\n"
     ]
    },
    {
     "name": "stderr",
     "output_type": "stream",
     "text": [
      "Progress: 100%|██████████| 840/840 [02:43<00:00,  5.13it/s]\n"
     ]
    },
    {
     "name": "stdout",
     "output_type": "stream",
     "text": [
      "Loss: 0.6423358823571886\n"
     ]
    },
    {
     "name": "stderr",
     "output_type": "stream",
     "text": [
      "Progress: 100%|██████████| 45/45 [00:08<00:00,  5.34it/s]\n"
     ]
    },
    {
     "name": "stdout",
     "output_type": "stream",
     "text": [
      "Val Loss: 0.7197104864650302 0.7197104864650302\n",
      "Epoch 26:\n"
     ]
    },
    {
     "name": "stderr",
     "output_type": "stream",
     "text": [
      "Progress: 100%|██████████| 840/840 [02:32<00:00,  5.52it/s]\n"
     ]
    },
    {
     "name": "stdout",
     "output_type": "stream",
     "text": [
      "Loss: 0.6193945585971787\n"
     ]
    },
    {
     "name": "stderr",
     "output_type": "stream",
     "text": [
      "Progress: 100%|██████████| 45/45 [00:08<00:00,  5.55it/s]\n"
     ]
    },
    {
     "name": "stdout",
     "output_type": "stream",
     "text": [
      "Val Loss: 0.7199385470814175 0.7199385470814175\n",
      "Epoch 27:\n"
     ]
    },
    {
     "name": "stderr",
     "output_type": "stream",
     "text": [
      "Progress: 100%|██████████| 840/840 [02:32<00:00,  5.51it/s]\n"
     ]
    },
    {
     "name": "stdout",
     "output_type": "stream",
     "text": [
      "Loss: 0.5976354570970649\n"
     ]
    },
    {
     "name": "stderr",
     "output_type": "stream",
     "text": [
      "Progress: 100%|██████████| 45/45 [00:07<00:00,  5.72it/s]\n"
     ]
    },
    {
     "name": "stdout",
     "output_type": "stream",
     "text": [
      "Val Loss: 0.7013459020190769 0.7013459020190769\n",
      "Epoch 28:\n"
     ]
    },
    {
     "name": "stderr",
     "output_type": "stream",
     "text": [
      "Progress: 100%|██████████| 840/840 [02:33<00:00,  5.46it/s]\n"
     ]
    },
    {
     "name": "stdout",
     "output_type": "stream",
     "text": [
      "Loss: 0.5789948375806921\n"
     ]
    },
    {
     "name": "stderr",
     "output_type": "stream",
     "text": [
      "Progress: 100%|██████████| 45/45 [00:08<00:00,  5.37it/s]\n"
     ]
    },
    {
     "name": "stdout",
     "output_type": "stream",
     "text": [
      "Val Loss: 0.6928063856230842 0.6928063856230842\n",
      "Epoch 29:\n"
     ]
    },
    {
     "name": "stderr",
     "output_type": "stream",
     "text": [
      "Progress: 100%|██████████| 840/840 [02:37<00:00,  5.32it/s]\n"
     ]
    },
    {
     "name": "stdout",
     "output_type": "stream",
     "text": [
      "Loss: 0.5602234815912587\n"
     ]
    },
    {
     "name": "stderr",
     "output_type": "stream",
     "text": [
      "Progress: 100%|██████████| 45/45 [00:08<00:00,  5.35it/s]\n"
     ]
    },
    {
     "name": "stdout",
     "output_type": "stream",
     "text": [
      "Val Loss: 0.6779887451065911 0.6779887451065911\n",
      "Epoch 30:\n"
     ]
    },
    {
     "name": "stderr",
     "output_type": "stream",
     "text": [
      "Progress: 100%|██████████| 840/840 [02:38<00:00,  5.31it/s]\n"
     ]
    },
    {
     "name": "stdout",
     "output_type": "stream",
     "text": [
      "Loss: 0.5442513941654137\n"
     ]
    },
    {
     "name": "stderr",
     "output_type": "stream",
     "text": [
      "Progress: 100%|██████████| 45/45 [00:08<00:00,  5.39it/s]\n"
     ]
    },
    {
     "name": "stdout",
     "output_type": "stream",
     "text": [
      "Val Loss: 0.6686866958936055 0.6686866958936055\n",
      "Saving model\n",
      "Epoch 31:\n"
     ]
    },
    {
     "name": "stderr",
     "output_type": "stream",
     "text": [
      "Progress: 100%|██████████| 840/840 [02:35<00:00,  5.40it/s]\n"
     ]
    },
    {
     "name": "stdout",
     "output_type": "stream",
     "text": [
      "Loss: 0.5290909376882371\n"
     ]
    },
    {
     "name": "stderr",
     "output_type": "stream",
     "text": [
      "Progress: 100%|██████████| 45/45 [00:07<00:00,  5.74it/s]\n"
     ]
    },
    {
     "name": "stdout",
     "output_type": "stream",
     "text": [
      "Val Loss: 0.6626660294002957 0.6626660294002957\n",
      "Epoch 32:\n"
     ]
    },
    {
     "name": "stderr",
     "output_type": "stream",
     "text": [
      "Progress: 100%|██████████| 840/840 [02:34<00:00,  5.42it/s]\n"
     ]
    },
    {
     "name": "stdout",
     "output_type": "stream",
     "text": [
      "Loss: 0.5159833499008701\n"
     ]
    },
    {
     "name": "stderr",
     "output_type": "stream",
     "text": [
      "Progress: 100%|██████████| 45/45 [00:07<00:00,  5.64it/s]\n"
     ]
    },
    {
     "name": "stdout",
     "output_type": "stream",
     "text": [
      "Val Loss: 0.6567494538095262 0.6567494538095262\n",
      "Epoch 33:\n"
     ]
    },
    {
     "name": "stderr",
     "output_type": "stream",
     "text": [
      "Progress: 100%|██████████| 840/840 [02:31<00:00,  5.53it/s]\n"
     ]
    },
    {
     "name": "stdout",
     "output_type": "stream",
     "text": [
      "Loss: 0.5016184472966762\n"
     ]
    },
    {
     "name": "stderr",
     "output_type": "stream",
     "text": [
      "Progress: 100%|██████████| 45/45 [00:08<00:00,  5.49it/s]\n"
     ]
    },
    {
     "name": "stdout",
     "output_type": "stream",
     "text": [
      "Val Loss: 0.660187037785848 0.660187037785848\n",
      "Epoch 34:\n"
     ]
    },
    {
     "name": "stderr",
     "output_type": "stream",
     "text": [
      "Progress: 100%|██████████| 840/840 [02:33<00:00,  5.49it/s]\n"
     ]
    },
    {
     "name": "stdout",
     "output_type": "stream",
     "text": [
      "Loss: 0.48857036573546275\n"
     ]
    },
    {
     "name": "stderr",
     "output_type": "stream",
     "text": [
      "Progress: 100%|██████████| 45/45 [00:08<00:00,  5.31it/s]\n"
     ]
    },
    {
     "name": "stdout",
     "output_type": "stream",
     "text": [
      "Val Loss: 0.6524229831165738 0.6524229831165738\n",
      "Epoch 35:\n"
     ]
    },
    {
     "name": "stderr",
     "output_type": "stream",
     "text": [
      "Progress: 100%|██████████| 840/840 [02:33<00:00,  5.46it/s]\n"
     ]
    },
    {
     "name": "stdout",
     "output_type": "stream",
     "text": [
      "Loss: 0.47699886312087375\n"
     ]
    },
    {
     "name": "stderr",
     "output_type": "stream",
     "text": [
      "Progress: 100%|██████████| 45/45 [00:08<00:00,  5.58it/s]\n"
     ]
    },
    {
     "name": "stdout",
     "output_type": "stream",
     "text": [
      "Val Loss: 0.657774461640252 0.657774461640252\n",
      "Epoch 36:\n"
     ]
    },
    {
     "name": "stderr",
     "output_type": "stream",
     "text": [
      "Progress: 100%|██████████| 840/840 [02:33<00:00,  5.46it/s]\n"
     ]
    },
    {
     "name": "stdout",
     "output_type": "stream",
     "text": [
      "Loss: 0.46680815730776104\n"
     ]
    },
    {
     "name": "stderr",
     "output_type": "stream",
     "text": [
      "Progress: 100%|██████████| 45/45 [00:08<00:00,  5.36it/s]\n"
     ]
    },
    {
     "name": "stdout",
     "output_type": "stream",
     "text": [
      "Val Loss: 0.6505114091767206 0.6505114091767206\n",
      "Epoch 37:\n"
     ]
    },
    {
     "name": "stderr",
     "output_type": "stream",
     "text": [
      "Progress: 100%|██████████| 840/840 [02:34<00:00,  5.45it/s]\n"
     ]
    },
    {
     "name": "stdout",
     "output_type": "stream",
     "text": [
      "Loss: 0.4561045372060367\n"
     ]
    },
    {
     "name": "stderr",
     "output_type": "stream",
     "text": [
      "Progress: 100%|██████████| 45/45 [00:07<00:00,  5.67it/s]\n"
     ]
    },
    {
     "name": "stdout",
     "output_type": "stream",
     "text": [
      "Val Loss: 0.6458626866340638 0.6458626866340638\n",
      "Epoch 38:\n"
     ]
    },
    {
     "name": "stderr",
     "output_type": "stream",
     "text": [
      "Progress: 100%|██████████| 840/840 [02:33<00:00,  5.46it/s]\n"
     ]
    },
    {
     "name": "stdout",
     "output_type": "stream",
     "text": [
      "Loss: 0.4465713257945719\n"
     ]
    },
    {
     "name": "stderr",
     "output_type": "stream",
     "text": [
      "Progress: 100%|██████████| 45/45 [00:08<00:00,  5.61it/s]\n"
     ]
    },
    {
     "name": "stdout",
     "output_type": "stream",
     "text": [
      "Val Loss: 0.6411240379015605 0.6411240379015605\n",
      "Epoch 39:\n"
     ]
    },
    {
     "name": "stderr",
     "output_type": "stream",
     "text": [
      "Progress: 100%|██████████| 840/840 [02:31<00:00,  5.54it/s]\n"
     ]
    },
    {
     "name": "stdout",
     "output_type": "stream",
     "text": [
      "Loss: 0.43539157456585337\n"
     ]
    },
    {
     "name": "stderr",
     "output_type": "stream",
     "text": [
      "Progress: 100%|██████████| 45/45 [00:08<00:00,  5.47it/s]\n"
     ]
    },
    {
     "name": "stdout",
     "output_type": "stream",
     "text": [
      "Val Loss: 0.6337936441103618 0.6337936441103618\n",
      "Epoch 40:\n"
     ]
    },
    {
     "name": "stderr",
     "output_type": "stream",
     "text": [
      "Progress: 100%|██████████| 840/840 [02:32<00:00,  5.52it/s]\n"
     ]
    },
    {
     "name": "stdout",
     "output_type": "stream",
     "text": [
      "Loss: 0.42840138191268556\n"
     ]
    },
    {
     "name": "stderr",
     "output_type": "stream",
     "text": [
      "Progress: 100%|██████████| 45/45 [00:07<00:00,  5.71it/s]"
     ]
    },
    {
     "name": "stdout",
     "output_type": "stream",
     "text": [
      "Val Loss: 0.637671340836419 0.637671340836419\n",
      "Saving model\n"
     ]
    },
    {
     "name": "stderr",
     "output_type": "stream",
     "text": [
      "\n"
     ]
    }
   ],
   "source": [
    "train_history,val_history=train(model,train_loader,val_loader,optimizer,nn.CrossEntropyLoss(),EPOCHS)"
   ]
  },
  {
   "cell_type": "code",
   "execution_count": null,
   "id": "8550ae32",
   "metadata": {
    "execution": {
     "iopub.execute_input": "2025-03-11T12:23:32.126926Z",
     "iopub.status.busy": "2025-03-11T12:23:32.126550Z",
     "iopub.status.idle": "2025-03-11T12:23:32.131520Z",
     "shell.execute_reply": "2025-03-11T12:23:32.130685Z"
    },
    "papermill": {
     "duration": 1.725558,
     "end_time": "2025-03-11T12:23:32.132936",
     "exception": false,
     "start_time": "2025-03-11T12:23:30.407378",
     "status": "completed"
    },
    "tags": []
   },
   "outputs": [],
   "source": [
    "characters = string.ascii_letters + string.digits\n",
    "idx_to_char = {idx: char for idx, char in enumerate(characters)}\n",
    "def to_text(arr):\n",
    "    ans=''\n",
    "    for c in arr:\n",
    "        ans=ans+idx_to_char[c.item()]\n",
    "    return ans"
   ]
  },
  {
   "cell_type": "code",
   "execution_count": 26,
   "id": "a4ae251d",
   "metadata": {
    "execution": {
     "iopub.execute_input": "2025-03-11T12:23:35.417069Z",
     "iopub.status.busy": "2025-03-11T12:23:35.416785Z",
     "iopub.status.idle": "2025-03-11T12:23:36.516002Z",
     "shell.execute_reply": "2025-03-11T12:23:36.514775Z"
    },
    "papermill": {
     "duration": 2.809393,
     "end_time": "2025-03-11T12:23:36.518618",
     "exception": false,
     "start_time": "2025-03-11T12:23:33.709225",
     "status": "completed"
    },
    "tags": []
   },
   "outputs": [
    {
     "data": {
      "image/png": "[encoded data removed]",
      "text/plain": [
       "<Figure size 640x480 with 1 Axes>"
      ]
     },
     "metadata": {},
     "output_type": "display_data"
    },
    {
     "data": {
      "image/png": "[encoded data removed]",
      "text/plain": [
       "<Figure size 640x480 with 1 Axes>"
      ]
     },
     "metadata": {},
     "output_type": "display_data"
    },
    {
     "name": "stdout",
     "output_type": "stream",
     "text": [
      "torch.Size([1, 5, 62])\n",
      "8Mr3m\n"
     ]
    }
   ],
   "source": [
    "import matplotlib.pyplot as plt\n",
    "with torch.no_grad():\n",
    "    for X,y in train_loader:\n",
    "        X=X[0]\n",
    "        \n",
    "        plt.imshow(X.numpy().transpose(1,2,0))\n",
    "        plt.show()\n",
    "        output=model(X.unsqueeze(0).to(device))\n",
    "        X1=model.affn(X.unsqueeze(0).to(device))\n",
    "        plt.imshow(X1[0].cpu().numpy().transpose(1,2,0))\n",
    "        plt.show()\n",
    "        print(output.shape)\n",
    "        print(to_text(output.squeeze(0).argmax(axis=1)))\n",
    "        break"
   ]
  }
 ],
 "metadata": {
  "kaggle": {
   "accelerator": "gpu",
   "dataSources": [
    {
     "datasetId": 1193002,
     "sourceId": 1994695,
     "sourceType": "datasetVersion"
    }
   ],
   "dockerImageVersionId": 30918,
   "isGpuEnabled": true,
   "isInternetEnabled": true,
   "language": "python",
   "sourceType": "notebook"
  },
  "kernelspec": {
   "display_name": "Python 3",
   "language": "python",
   "name": "python3"
  },
  "language_info": {
   "codemirror_mode": {
    "name": "ipython",
    "version": 3
   },
   "file_extension": ".py",
   "mimetype": "text/x-python",
   "name": "python",
   "nbconvert_exporter": "python",
   "pygments_lexer": "ipython3",
   "version": "3.10.12"
  },
  "papermill": {
   "default_parameters": {},
   "duration": 6772.120819,
   "end_time": "2025-03-11T12:23:47.234288",
   "environment_variables": {},
   "exception": null,
   "input_path": "__notebook__.ipynb",
   "output_path": "__notebook__.ipynb",
   "parameters": {},
   "start_time": "2025-03-11T10:30:55.113469",
   "version": "2.6.0"
  }
 },
 "nbformat": 4,
 "nbformat_minor": 5
}
