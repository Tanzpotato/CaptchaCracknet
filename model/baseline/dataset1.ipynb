{
 "cells": [
  {
   "cell_type": "code",
   "execution_count": 1,
   "id": "44abf8da",
   "metadata": {
    "execution": {
     "iopub.execute_input": "2025-05-08T17:27:04.972036Z",
     "iopub.status.busy": "2025-05-08T17:27:04.971695Z",
     "iopub.status.idle": "2025-05-08T17:27:09.796291Z",
     "shell.execute_reply": "2025-05-08T17:27:09.795162Z"
    },
    "papermill": {
     "duration": 4.833246,
     "end_time": "2025-05-08T17:27:09.797950",
     "exception": false,
     "start_time": "2025-05-08T17:27:04.964704",
     "status": "completed"
    },
    "tags": []
   },
   "outputs": [
    {
     "name": "stdout",
     "output_type": "stream",
     "text": [
      "Collecting torch-summary\r\n",
      "  Downloading torch_summary-1.4.5-py3-none-any.whl.metadata (18 kB)\r\n",
      "Downloading torch_summary-1.4.5-py3-none-any.whl (16 kB)\r\n",
      "Installing collected packages: torch-summary\r\n",
      "Successfully installed torch-summary-1.4.5\r\n"
     ]
    }
   ],
   "source": [
    "!pip install --upgrade torch-summary"
   ]
  },
  {
   "cell_type": "code",
   "execution_count": 2,
   "id": "629129c6",
   "metadata": {
    "_cell_guid": "b1076dfc-b9ad-4769-8c92-a6c4dae69d19",
    "_uuid": "8f2839f25d086af736a60e9eeb907d3b93b6e0e5",
    "execution": {
     "iopub.execute_input": "2025-05-08T17:27:09.810383Z",
     "iopub.status.busy": "2025-05-08T17:27:09.810120Z",
     "iopub.status.idle": "2025-05-08T17:27:16.956991Z",
     "shell.execute_reply": "2025-05-08T17:27:16.956306Z"
    },
    "papermill": {
     "duration": 7.154401,
     "end_time": "2025-05-08T17:27:16.958479",
     "exception": false,
     "start_time": "2025-05-08T17:27:09.804078",
     "status": "completed"
    },
    "tags": []
   },
   "outputs": [],
   "source": [
    "import torch\n",
    "from torch import nn\n",
    "import torch.nn.functional as F\n",
    "from torchsummary import summary\n",
    "from tqdm import tqdm\n",
    "import os\n",
    "from torchvision import transforms\n",
    "from torch.utils.data import DataLoader, random_split, Dataset\n",
    "from PIL import Image\n",
    "import string"
   ]
  },
  {
   "cell_type": "markdown",
   "id": "9cd31d35",
   "metadata": {
    "papermill": {
     "duration": 0.005151,
     "end_time": "2025-05-08T17:27:16.969382",
     "exception": false,
     "start_time": "2025-05-08T17:27:16.964231",
     "status": "completed"
    },
    "tags": []
   },
   "source": [
    "# Hyperparameters\n"
   ]
  },
  {
   "cell_type": "code",
   "execution_count": 3,
   "id": "f7a3c2b6",
   "metadata": {
    "execution": {
     "iopub.execute_input": "2025-05-08T17:27:16.980868Z",
     "iopub.status.busy": "2025-05-08T17:27:16.980537Z",
     "iopub.status.idle": "2025-05-08T17:27:16.984552Z",
     "shell.execute_reply": "2025-05-08T17:27:16.983949Z"
    },
    "papermill": {
     "duration": 0.010996,
     "end_time": "2025-05-08T17:27:16.985700",
     "exception": false,
     "start_time": "2025-05-08T17:27:16.974704",
     "status": "completed"
    },
    "tags": []
   },
   "outputs": [],
   "source": [
    "DATA_DIR='/kaggle/input/captcha-dataset'\n",
    "BATCH_SIZE=128\n",
    "VAL_SPLIT=0.05\n",
    "\n",
    "#AFFN\n",
    "AFFN_KERNEL=5\n",
    "AFFN_STRIDE=1\n",
    "AFFN_DEPTH=4\n",
    "\n",
    "#CRNN\n",
    "CRNN_KERNEL=5\n",
    "CRNN_POOL_KERNEL=2\n",
    "CRNN_DROPOUT=0.3\n",
    "CRNN_LATENT=128\n",
    "LSTM_HIDDEN_DIM=32\n",
    "VOCAB_SIZE=26*2+10\n",
    "OUTPUT_LENGTH=5\n",
    "\n",
    "#Train\n",
    "SAVE_EPOCH=10\n",
    "VAL_EPOCH=1\n",
    "EPOCHS=40"
   ]
  },
  {
   "cell_type": "code",
   "execution_count": 4,
   "id": "08677315",
   "metadata": {
    "execution": {
     "iopub.execute_input": "2025-05-08T17:27:16.997373Z",
     "iopub.status.busy": "2025-05-08T17:27:16.997169Z",
     "iopub.status.idle": "2025-05-08T17:27:17.044874Z",
     "shell.execute_reply": "2025-05-08T17:27:17.044200Z"
    },
    "papermill": {
     "duration": 0.05509,
     "end_time": "2025-05-08T17:27:17.046204",
     "exception": false,
     "start_time": "2025-05-08T17:27:16.991114",
     "status": "completed"
    },
    "tags": []
   },
   "outputs": [],
   "source": [
    "device = torch.device(\"cuda\" if torch.cuda.is_available() else \"cpu\")"
   ]
  },
  {
   "cell_type": "markdown",
   "id": "1f830bde",
   "metadata": {},
   "source": [
    "# Dataset\n"
   ]
  },
  {
   "cell_type": "markdown",
   "id": "02976723",
   "metadata": {},
   "source": [
    "The dataset using in this notebook can be obtained from : https://www.kaggle.com/datasets/parsasam/captcha-dataset\n"
   ]
  },
  {
   "cell_type": "code",
   "execution_count": 5,
   "id": "474a247f",
   "metadata": {
    "execution": {
     "iopub.execute_input": "2025-05-08T17:27:17.057843Z",
     "iopub.status.busy": "2025-05-08T17:27:17.057600Z",
     "iopub.status.idle": "2025-05-08T17:27:17.065946Z",
     "shell.execute_reply": "2025-05-08T17:27:17.065260Z"
    },
    "papermill": {
     "duration": 0.015447,
     "end_time": "2025-05-08T17:27:17.067281",
     "exception": false,
     "start_time": "2025-05-08T17:27:17.051834",
     "status": "completed"
    },
    "tags": []
   },
   "outputs": [],
   "source": [
    "def get_dataloaders(data_dir, batch_size=32, val_split=0.2, shuffle=True, num_workers=2):\n",
    "    \n",
    "    # Define the character set (vocabulary)\n",
    "    characters = string.ascii_letters + string.digits  # Uppercase + lowercase + digits\n",
    "    char_to_idx = {char: idx for idx, char in enumerate(characters)}\n",
    "    vocab_size = len(characters)\n",
    "\n",
    "    class CustomDataset(Dataset):\n",
    "        def __init__(self, root_dir, transform=None):\n",
    "            self.root_dir = root_dir\n",
    "            self.transform = transform\n",
    "            self.image_paths = [os.path.join(root_dir, f) for f in os.listdir(root_dir) if f.endswith(('png', 'jpg', 'jpeg'))]\n",
    "            self.labels = [os.path.basename(f).split('.')[0] for f in self.image_paths]  # Extract filename as label\n",
    "        \n",
    "        def __len__(self):\n",
    "            return len(self.image_paths)\n",
    "        \n",
    "        def __getitem__(self, idx):\n",
    "            img_path = self.image_paths[idx]\n",
    "            image = Image.open(img_path).convert('RGB')\n",
    "            label_str = self.labels[idx]\n",
    "            \n",
    "            # Convert label string to one-hot encoded tensor\n",
    "            label_indices = [char_to_idx[c] for c in label_str if c in char_to_idx]  # Map characters to indices\n",
    "            label_tensor = torch.zeros(len(label_indices),dtype=torch.long)  # One-hot encoding tensor\n",
    "            for i, index in enumerate(label_indices):\n",
    "                label_tensor[i] = index  # Set one-hot encoding\n",
    "            \n",
    "            if self.transform:\n",
    "                image = self.transform(image)\n",
    "            \n",
    "            return image, label_tensor\n",
    "    \n",
    "    transform = transforms.Compose([\n",
    "        transforms.Resize((40, 150)),  # Resize to a fixed size\n",
    "        transforms.ToTensor(),\n",
    "        transforms.Grayscale(),\n",
    "        transforms.Lambda(lambda x: x / 255),\n",
    "    ])\n",
    "    \n",
    "    dataset = CustomDataset(root_dir=data_dir, transform=transform)\n",
    "    \n",
    "    # Compute train-validation split\n",
    "    total_size = len(dataset)\n",
    "    val_size = int(total_size * val_split)\n",
    "    train_size = total_size - val_size\n",
    "    train_dataset, val_dataset = random_split(dataset, [train_size, val_size])\n",
    "    \n",
    "    train_loader = DataLoader(train_dataset, batch_size=batch_size, shuffle=shuffle, num_workers=num_workers)\n",
    "    val_loader = DataLoader(val_dataset, batch_size=batch_size, shuffle=False, num_workers=num_workers)\n",
    "    \n",
    "    return train_loader, val_loader\n"
   ]
  },
  {
   "cell_type": "code",
   "execution_count": 6,
   "id": "3ec80ab5",
   "metadata": {
    "execution": {
     "iopub.execute_input": "2025-05-08T17:27:17.079533Z",
     "iopub.status.busy": "2025-05-08T17:27:17.079273Z",
     "iopub.status.idle": "2025-05-08T17:27:18.147095Z",
     "shell.execute_reply": "2025-05-08T17:27:18.146349Z"
    },
    "papermill": {
     "duration": 1.075446,
     "end_time": "2025-05-08T17:27:18.148608",
     "exception": false,
     "start_time": "2025-05-08T17:27:17.073162",
     "status": "completed"
    },
    "tags": []
   },
   "outputs": [],
   "source": [
    "train_loader,val_loader=get_dataloaders(DATA_DIR, batch_size=BATCH_SIZE, val_split=VAL_SPLIT, shuffle=True)"
   ]
  },
  {
   "cell_type": "code",
   "execution_count": 7,
   "id": "ec45d193",
   "metadata": {
    "execution": {
     "iopub.execute_input": "2025-05-08T17:27:18.160747Z",
     "iopub.status.busy": "2025-05-08T17:27:18.160508Z",
     "iopub.status.idle": "2025-05-08T17:27:20.351637Z",
     "shell.execute_reply": "2025-05-08T17:27:20.350773Z"
    },
    "papermill": {
     "duration": 2.198762,
     "end_time": "2025-05-08T17:27:20.353324",
     "exception": false,
     "start_time": "2025-05-08T17:27:18.154562",
     "status": "completed"
    },
    "tags": []
   },
   "outputs": [
    {
     "name": "stdout",
     "output_type": "stream",
     "text": [
      "torch.Size([128, 1, 40, 150])\n",
      "torch.Size([128, 5])\n"
     ]
    }
   ],
   "source": [
    "for X,y in train_loader:\n",
    "    print(X.shape)\n",
    "    print(y.shape)\n",
    "    break"
   ]
  },
  {
   "cell_type": "markdown",
   "id": "c9f0a678",
   "metadata": {
    "papermill": {
     "duration": 0.005869,
     "end_time": "2025-05-08T17:27:20.365123",
     "exception": false,
     "start_time": "2025-05-08T17:27:20.359254",
     "status": "completed"
    },
    "tags": []
   },
   "source": [
    "# Model\n"
   ]
  },
  {
   "cell_type": "markdown",
   "id": "354f41b1",
   "metadata": {
    "papermill": {
     "duration": 0.005245,
     "end_time": "2025-05-08T17:27:20.375846",
     "exception": false,
     "start_time": "2025-05-08T17:27:20.370601",
     "status": "completed"
    },
    "tags": []
   },
   "source": [
    "## AFFN\n"
   ]
  },
  {
   "cell_type": "code",
   "execution_count": 8,
   "id": "44805cca",
   "metadata": {
    "execution": {
     "iopub.execute_input": "2025-05-08T17:27:20.387778Z",
     "iopub.status.busy": "2025-05-08T17:27:20.387530Z",
     "iopub.status.idle": "2025-05-08T17:27:20.391631Z",
     "shell.execute_reply": "2025-05-08T17:27:20.391040Z"
    },
    "papermill": {
     "duration": 0.011401,
     "end_time": "2025-05-08T17:27:20.392798",
     "exception": false,
     "start_time": "2025-05-08T17:27:20.381397",
     "status": "completed"
    },
    "tags": []
   },
   "outputs": [],
   "source": [
    "class Encoder(nn.Sequential):\n",
    "    def __init__(self,n,kernel_size,stride):\n",
    "        super().__init__(\n",
    "            nn.Conv2d(in_channels=4**(n-1),out_channels=4**n,kernel_size=kernel_size,stride=stride),\n",
    "            nn.BatchNorm2d(num_features=4**n),\n",
    "            nn.ReLU(inplace=False)\n",
    "        )"
   ]
  },
  {
   "cell_type": "code",
   "execution_count": 9,
   "id": "db7743ae",
   "metadata": {
    "execution": {
     "iopub.execute_input": "2025-05-08T17:27:20.404514Z",
     "iopub.status.busy": "2025-05-08T17:27:20.404273Z",
     "iopub.status.idle": "2025-05-08T17:27:20.407243Z",
     "shell.execute_reply": "2025-05-08T17:27:20.406668Z"
    },
    "papermill": {
     "duration": 0.010177,
     "end_time": "2025-05-08T17:27:20.408384",
     "exception": false,
     "start_time": "2025-05-08T17:27:20.398207",
     "status": "completed"
    },
    "tags": []
   },
   "outputs": [],
   "source": [
    "# summary(Encoder(2,AFFN_KERNEL,AFFN_STRIDE),(4,36,146))"
   ]
  },
  {
   "cell_type": "code",
   "execution_count": 10,
   "id": "77b3a80c",
   "metadata": {
    "execution": {
     "iopub.execute_input": "2025-05-08T17:27:20.419786Z",
     "iopub.status.busy": "2025-05-08T17:27:20.419581Z",
     "iopub.status.idle": "2025-05-08T17:27:20.423073Z",
     "shell.execute_reply": "2025-05-08T17:27:20.422483Z"
    },
    "papermill": {
     "duration": 0.01066,
     "end_time": "2025-05-08T17:27:20.424414",
     "exception": false,
     "start_time": "2025-05-08T17:27:20.413754",
     "status": "completed"
    },
    "tags": []
   },
   "outputs": [],
   "source": [
    "class Decoder(nn.Sequential):\n",
    "    def __init__(self,n,kernel_size,stride):\n",
    "        super().__init__(\n",
    "            nn.ConvTranspose2d(in_channels=4**n,out_channels=4**(n-1),kernel_size=kernel_size,stride=stride),\n",
    "            nn.BatchNorm2d(num_features=4**(n-1)),\n",
    "            nn.ReLU(inplace=False)\n",
    "        )"
   ]
  },
  {
   "cell_type": "code",
   "execution_count": 11,
   "id": "c901a3eb",
   "metadata": {
    "execution": {
     "iopub.execute_input": "2025-05-08T17:27:20.436001Z",
     "iopub.status.busy": "2025-05-08T17:27:20.435748Z",
     "iopub.status.idle": "2025-05-08T17:27:20.438613Z",
     "shell.execute_reply": "2025-05-08T17:27:20.437877Z"
    },
    "papermill": {
     "duration": 0.009842,
     "end_time": "2025-05-08T17:27:20.439887",
     "exception": false,
     "start_time": "2025-05-08T17:27:20.430045",
     "status": "completed"
    },
    "tags": []
   },
   "outputs": [],
   "source": [
    "# summary(Decoder(2,AFFN_KERNEL,AFFN_STRIDE),(16,32,142))"
   ]
  },
  {
   "cell_type": "code",
   "execution_count": 12,
   "id": "bfefd7de",
   "metadata": {
    "execution": {
     "iopub.execute_input": "2025-05-08T17:27:20.451347Z",
     "iopub.status.busy": "2025-05-08T17:27:20.451149Z",
     "iopub.status.idle": "2025-05-08T17:27:20.456664Z",
     "shell.execute_reply": "2025-05-08T17:27:20.456065Z"
    },
    "papermill": {
     "duration": 0.012441,
     "end_time": "2025-05-08T17:27:20.457741",
     "exception": false,
     "start_time": "2025-05-08T17:27:20.445300",
     "status": "completed"
    },
    "tags": []
   },
   "outputs": [],
   "source": [
    "class AFFN(nn.Module):\n",
    "    def __init__(self,n):\n",
    "        super().__init__()\n",
    "        self.n=n\n",
    "        # self.test=nn.Linear(1,2)\n",
    "        self.alpha=nn.Parameter(torch.randn(n-1).to(device)).to(device)\n",
    "        self.encoders=[]\n",
    "        for i in range(1,n+1):\n",
    "            self.encoders.append(Encoder(i,AFFN_KERNEL,AFFN_STRIDE).to(device))\n",
    "\n",
    "        self.decoders=[]\n",
    "        for i in range(n,0,-1):\n",
    "            self.decoders.append(Decoder(i,AFFN_KERNEL,AFFN_STRIDE).to(device))\n",
    "            \n",
    "    def forward(self, x):\n",
    "        residuals = []\n",
    "        for i, enc in enumerate(self.encoders):\n",
    "            x = enc(x)\n",
    "            if i < self.n - 1:\n",
    "                x = x * (1 - self.alpha[i]) \n",
    "                residuals.append(x * self.alpha[i])\n",
    "    \n",
    "        for i, dec in enumerate(self.decoders):\n",
    "            x = dec(x)\n",
    "            if i < self.n - 1:\n",
    "                x = x + residuals.pop()\n",
    "    \n",
    "        return x\n",
    "        "
   ]
  },
  {
   "cell_type": "code",
   "execution_count": 13,
   "id": "1af42a48",
   "metadata": {
    "execution": {
     "iopub.execute_input": "2025-05-08T17:27:20.468822Z",
     "iopub.status.busy": "2025-05-08T17:27:20.468624Z",
     "iopub.status.idle": "2025-05-08T17:27:20.471312Z",
     "shell.execute_reply": "2025-05-08T17:27:20.470701Z"
    },
    "papermill": {
     "duration": 0.009485,
     "end_time": "2025-05-08T17:27:20.472496",
     "exception": false,
     "start_time": "2025-05-08T17:27:20.463011",
     "status": "completed"
    },
    "tags": []
   },
   "outputs": [],
   "source": [
    "# AFFN(3).to(device)(torch.randn((1,1,40,150)).to(device)).shape"
   ]
  },
  {
   "cell_type": "markdown",
   "id": "dfab0ce5",
   "metadata": {
    "papermill": {
     "duration": 0.00502,
     "end_time": "2025-05-08T17:27:20.482885",
     "exception": false,
     "start_time": "2025-05-08T17:27:20.477865",
     "status": "completed"
    },
    "tags": []
   },
   "source": [
    "## CRNN\n"
   ]
  },
  {
   "cell_type": "code",
   "execution_count": null,
   "id": "e47f07a6",
   "metadata": {
    "execution": {
     "iopub.execute_input": "2025-05-08T17:27:20.494096Z",
     "iopub.status.busy": "2025-05-08T17:27:20.493873Z",
     "iopub.status.idle": "2025-05-08T17:27:20.500955Z",
     "shell.execute_reply": "2025-05-08T17:27:20.500333Z"
    },
    "papermill": {
     "duration": 0.014062,
     "end_time": "2025-05-08T17:27:20.502187",
     "exception": false,
     "start_time": "2025-05-08T17:27:20.488125",
     "status": "completed"
    },
    "tags": []
   },
   "outputs": [],
   "source": [
    "class CRNN(nn.Module):\n",
    "    def __init__(self, in_channels, kernel_size, pool_kernel_size, dropout, latent_dim, lstm_hidden_dim, vocab_size, output_length=5):\n",
    "        super().__init__()\n",
    "        self.lstm_hidden_dim = lstm_hidden_dim\n",
    "        self.output_length = output_length\n",
    "        self.vocab_size = vocab_size\n",
    "        \n",
    "        self.conv1 = nn.Sequential(\n",
    "            nn.Conv2d(in_channels=in_channels, out_channels=in_channels*2, kernel_size=kernel_size, padding=2),\n",
    "            nn.BatchNorm2d(num_features=in_channels*2),\n",
    "            nn.ReLU(inplace=False),\n",
    "            nn.MaxPool2d(kernel_size=pool_kernel_size)\n",
    "        )\n",
    "        self.conv2 = nn.Sequential(\n",
    "            nn.Conv2d(in_channels=in_channels*2, out_channels=in_channels*4, kernel_size=kernel_size, padding=2),\n",
    "            nn.BatchNorm2d(num_features=in_channels*4),\n",
    "            nn.ReLU(inplace=False),\n",
    "            nn.MaxPool2d(kernel_size=pool_kernel_size)\n",
    "        )\n",
    "        self.flatten = nn.Flatten()\n",
    "        self.dropout = nn.Dropout(dropout)\n",
    "        self.latent_fc = nn.LazyLinear(latent_dim)\n",
    "        self.lstm = nn.LSTM(input_size=latent_dim, hidden_size=lstm_hidden_dim, num_layers=1, batch_first=True)\n",
    "        self.output_fc = nn.Linear(lstm_hidden_dim, vocab_size)\n",
    "    \n",
    "    def forward(self, x):\n",
    "        batch_size = x.size(0)\n",
    "        \n",
    "        conv1_out = self.conv1(x)\n",
    "        conv2_out = self.conv2(conv1_out)\n",
    "        flattened = self.flatten(conv2_out)\n",
    "        dropped = self.dropout(flattened)\n",
    "        latent = self.latent_fc(dropped)\n",
    "        \n",
    "        lstm_input = latent.unsqueeze(1)  # Shape: (batch_size, 1, latent_dim)\n",
    "        \n",
    "        h0 = torch.zeros(1, batch_size, self.lstm_hidden_dim, device=x.device)\n",
    "        c0 = torch.zeros(1, batch_size, self.lstm_hidden_dim, device=x.device)\n",
    "        \n",
    "        outputs = []\n",
    "        \n",
    "        for _ in range(self.output_length):\n",
    "            out, (h0, c0) = self.lstm(lstm_input, (h0, c0))  # out shape: (batch_size, 1, lstm_hidden_dim)\n",
    "            logits = self.output_fc(out.squeeze(1))  # Shape: (batch_size, vocab_size)\n",
    "            outputs.append(logits)\n",
    "            \n",
    "        outputs = torch.stack(outputs, dim=1)  # Shape: (batch_size, 5, vocab_size)\n",
    "        \n",
    "        return outputs"
   ]
  },
  {
   "cell_type": "code",
   "execution_count": 15,
   "id": "fefbc1ed",
   "metadata": {
    "execution": {
     "iopub.execute_input": "2025-05-08T17:27:20.513392Z",
     "iopub.status.busy": "2025-05-08T17:27:20.513190Z",
     "iopub.status.idle": "2025-05-08T17:27:21.409350Z",
     "shell.execute_reply": "2025-05-08T17:27:21.408637Z"
    },
    "papermill": {
     "duration": 0.903697,
     "end_time": "2025-05-08T17:27:21.411148",
     "exception": false,
     "start_time": "2025-05-08T17:27:20.507451",
     "status": "completed"
    },
    "scrolled": true,
    "tags": []
   },
   "outputs": [],
   "source": [
    "output=CRNN(64,CRNN_KERNEL,CRNN_POOL_KERNEL,CRNN_DROPOUT,CRNN_LATENT,LSTM_HIDDEN_DIM,VOCAB_SIZE,OUTPUT_LENGTH).to(device)(torch.zeros((2,64,256,256)).to(device))"
   ]
  },
  {
   "cell_type": "code",
   "execution_count": 16,
   "id": "3b03f21f",
   "metadata": {
    "execution": {
     "iopub.execute_input": "2025-05-08T17:27:21.423279Z",
     "iopub.status.busy": "2025-05-08T17:27:21.423026Z",
     "iopub.status.idle": "2025-05-08T17:27:21.428494Z",
     "shell.execute_reply": "2025-05-08T17:27:21.427852Z"
    },
    "papermill": {
     "duration": 0.012695,
     "end_time": "2025-05-08T17:27:21.429716",
     "exception": false,
     "start_time": "2025-05-08T17:27:21.417021",
     "status": "completed"
    },
    "tags": []
   },
   "outputs": [
    {
     "data": {
      "text/plain": [
       "torch.Size([2, 5, 62])"
      ]
     },
     "execution_count": 16,
     "metadata": {},
     "output_type": "execute_result"
    }
   ],
   "source": [
    "output.shape"
   ]
  },
  {
   "cell_type": "code",
   "execution_count": 17,
   "id": "a985b487",
   "metadata": {
    "execution": {
     "iopub.execute_input": "2025-05-08T17:27:21.441421Z",
     "iopub.status.busy": "2025-05-08T17:27:21.441212Z",
     "iopub.status.idle": "2025-05-08T17:27:21.447290Z",
     "shell.execute_reply": "2025-05-08T17:27:21.446646Z"
    },
    "papermill": {
     "duration": 0.013284,
     "end_time": "2025-05-08T17:27:21.448459",
     "exception": false,
     "start_time": "2025-05-08T17:27:21.435175",
     "status": "completed"
    },
    "tags": []
   },
   "outputs": [],
   "source": [
    "class CaptchaCrackNet(nn.Module):\n",
    "    def __init__(self):\n",
    "        super().__init__()\n",
    "        self.affn=AFFN(AFFN_DEPTH).to(device)\n",
    "\n",
    "        self.conv1=nn.Sequential(\n",
    "            nn.Conv2d(in_channels=1,out_channels=32,kernel_size=5,padding=2),\n",
    "            nn.ReLU(inplace=False),\n",
    "            nn.MaxPool2d(kernel_size=2)\n",
    "        )\n",
    "\n",
    "        self.conv2=nn.Sequential(\n",
    "                    nn.Conv2d(in_channels=32,out_channels=48,kernel_size=5,padding=2),\n",
    "                    nn.ReLU(inplace=False),\n",
    "                    nn.MaxPool2d(kernel_size=2)\n",
    "                )\n",
    "\n",
    "        self.conv3=nn.Sequential(\n",
    "            nn.Conv2d(in_channels=48,out_channels=64,kernel_size=5,padding=2),\n",
    "            nn.ReLU(inplace=False),\n",
    "            nn.MaxPool2d(kernel_size=2)\n",
    "        )\n",
    "\n",
    "        self.res=nn.Conv2d(in_channels=1, out_channels=32, kernel_size=5, stride=2, padding=2)\n",
    "\n",
    "        self.crnn=CRNN(64,CRNN_KERNEL,CRNN_POOL_KERNEL,CRNN_DROPOUT,CRNN_LATENT,LSTM_HIDDEN_DIM,VOCAB_SIZE,OUTPUT_LENGTH).to(device)\n",
    "\n",
    "    def forward(self,x):\n",
    "        affn_out=self.affn(x)\n",
    "        res_out=self.res(x)\n",
    "        conv1_out=self.conv1(affn_out)\n",
    "        conv2_out=self.conv2(conv1_out+res_out)\n",
    "        conv3_out=self.conv3(conv2_out)\n",
    "        output=self.crnn(conv3_out)\n",
    "        return output\n",
    "        "
   ]
  },
  {
   "cell_type": "code",
   "execution_count": 18,
   "id": "f2f9075d",
   "metadata": {
    "execution": {
     "iopub.execute_input": "2025-05-08T17:27:21.459956Z",
     "iopub.status.busy": "2025-05-08T17:27:21.459708Z",
     "iopub.status.idle": "2025-05-08T17:27:21.490307Z",
     "shell.execute_reply": "2025-05-08T17:27:21.489598Z"
    },
    "papermill": {
     "duration": 0.037566,
     "end_time": "2025-05-08T17:27:21.491594",
     "exception": false,
     "start_time": "2025-05-08T17:27:21.454028",
     "status": "completed"
    },
    "tags": []
   },
   "outputs": [
    {
     "data": {
      "text/plain": [
       "CaptchaCrackNet(\n",
       "  (affn): AFFN()\n",
       "  (conv1): Sequential(\n",
       "    (0): Conv2d(1, 32, kernel_size=(5, 5), stride=(1, 1), padding=(2, 2))\n",
       "    (1): ReLU()\n",
       "    (2): MaxPool2d(kernel_size=2, stride=2, padding=0, dilation=1, ceil_mode=False)\n",
       "  )\n",
       "  (conv2): Sequential(\n",
       "    (0): Conv2d(32, 48, kernel_size=(5, 5), stride=(1, 1), padding=(2, 2))\n",
       "    (1): ReLU()\n",
       "    (2): MaxPool2d(kernel_size=2, stride=2, padding=0, dilation=1, ceil_mode=False)\n",
       "  )\n",
       "  (conv3): Sequential(\n",
       "    (0): Conv2d(48, 64, kernel_size=(5, 5), stride=(1, 1), padding=(2, 2))\n",
       "    (1): ReLU()\n",
       "    (2): MaxPool2d(kernel_size=2, stride=2, padding=0, dilation=1, ceil_mode=False)\n",
       "  )\n",
       "  (res): Conv2d(1, 32, kernel_size=(5, 5), stride=(2, 2), padding=(2, 2))\n",
       "  (crnn): CRNN(\n",
       "    (conv1): Sequential(\n",
       "      (0): Conv2d(64, 128, kernel_size=(5, 5), stride=(1, 1), padding=(2, 2))\n",
       "      (1): BatchNorm2d(128, eps=1e-05, momentum=0.1, affine=True, track_running_stats=True)\n",
       "      (2): ReLU()\n",
       "      (3): MaxPool2d(kernel_size=2, stride=2, padding=0, dilation=1, ceil_mode=False)\n",
       "    )\n",
       "    (conv2): Sequential(\n",
       "      (0): Conv2d(128, 256, kernel_size=(5, 5), stride=(1, 1), padding=(2, 2))\n",
       "      (1): BatchNorm2d(256, eps=1e-05, momentum=0.1, affine=True, track_running_stats=True)\n",
       "      (2): ReLU()\n",
       "      (3): MaxPool2d(kernel_size=2, stride=2, padding=0, dilation=1, ceil_mode=False)\n",
       "    )\n",
       "    (flatten): Flatten(start_dim=1, end_dim=-1)\n",
       "    (dropout): Dropout(p=0.3, inplace=False)\n",
       "    (latent_fc): LazyLinear(in_features=0, out_features=128, bias=True)\n",
       "    (lstm): LSTM(128, 32, batch_first=True)\n",
       "    (output_fc): Linear(in_features=32, out_features=62, bias=True)\n",
       "  )\n",
       ")"
      ]
     },
     "execution_count": 18,
     "metadata": {},
     "output_type": "execute_result"
    }
   ],
   "source": [
    "CaptchaCrackNet()"
   ]
  },
  {
   "cell_type": "code",
   "execution_count": 19,
   "id": "d442471f",
   "metadata": {
    "execution": {
     "iopub.execute_input": "2025-05-08T17:27:21.503686Z",
     "iopub.status.busy": "2025-05-08T17:27:21.503475Z",
     "iopub.status.idle": "2025-05-08T17:27:21.506376Z",
     "shell.execute_reply": "2025-05-08T17:27:21.505731Z"
    },
    "papermill": {
     "duration": 0.010148,
     "end_time": "2025-05-08T17:27:21.507470",
     "exception": false,
     "start_time": "2025-05-08T17:27:21.497322",
     "status": "completed"
    },
    "scrolled": true,
    "tags": []
   },
   "outputs": [],
   "source": [
    "# CaptchaCrackNet()(torch.randn(1,1,40,150))"
   ]
  },
  {
   "cell_type": "code",
   "execution_count": 20,
   "id": "ba42f61f",
   "metadata": {
    "execution": {
     "iopub.execute_input": "2025-05-08T17:27:21.519386Z",
     "iopub.status.busy": "2025-05-08T17:27:21.519179Z",
     "iopub.status.idle": "2025-05-08T17:27:23.446334Z",
     "shell.execute_reply": "2025-05-08T17:27:23.445230Z"
    },
    "papermill": {
     "duration": 1.935054,
     "end_time": "2025-05-08T17:27:23.448126",
     "exception": false,
     "start_time": "2025-05-08T17:27:21.513072",
     "status": "completed"
    },
    "scrolled": true,
    "tags": []
   },
   "outputs": [
    {
     "name": "stdout",
     "output_type": "stream",
     "text": [
      "torch.Size([128, 5])\n"
     ]
    }
   ],
   "source": [
    "for X,y in train_loader:\n",
    "    print(y.shape)\n",
    "    break"
   ]
  },
  {
   "cell_type": "markdown",
   "id": "02ee72a8",
   "metadata": {
    "papermill": {
     "duration": 0.005467,
     "end_time": "2025-05-08T17:27:23.459775",
     "exception": false,
     "start_time": "2025-05-08T17:27:23.454308",
     "status": "completed"
    },
    "tags": []
   },
   "source": [
    "# Train Loop\n"
   ]
  },
  {
   "cell_type": "code",
   "execution_count": 21,
   "id": "ea2ad29f",
   "metadata": {
    "execution": {
     "iopub.execute_input": "2025-05-08T17:27:23.472131Z",
     "iopub.status.busy": "2025-05-08T17:27:23.471838Z",
     "iopub.status.idle": "2025-05-08T17:27:23.480762Z",
     "shell.execute_reply": "2025-05-08T17:27:23.480019Z"
    },
    "papermill": {
     "duration": 0.016424,
     "end_time": "2025-05-08T17:27:23.482008",
     "exception": false,
     "start_time": "2025-05-08T17:27:23.465584",
     "status": "completed"
    },
    "tags": []
   },
   "outputs": [],
   "source": [
    "def loss_fn(preds,target):\n",
    "    ce_loss=F.cross_entropy(preds,target)\n",
    "    \n",
    "    return ce_loss\n",
    "\n",
    "def asr(preds,target):\n",
    "    preds_argmax=torch.argmax(preds,dim=-1)\n",
    "    asr=(preds_argmax==target).sum(dim=-1)/preds.shape[1]\n",
    "    return asr.mean()\n",
    "\n",
    "\n",
    "def train(model,train_loader,val_loader,optimizer,loss_fn,epochs):\n",
    "    train_history=[]\n",
    "    val_history=[]\n",
    "    asr_history=[]\n",
    "    model.to(device)\n",
    "    for epoch in range(1,epochs+1):\n",
    "        print(f\"Epoch {epoch}:\")\n",
    "        model.train()\n",
    "        avg_loss=0\n",
    "        for batch_num,(X,y) in enumerate(tqdm(train_loader,desc=\"Progress: \")):\n",
    "            X=X.to(device)\n",
    "            y=y.to(device)\n",
    "            optimizer.zero_grad()\n",
    "            preds=model(X)\n",
    "            \n",
    "            loss=loss_fn(preds.view(-1, VOCAB_SIZE),y.view(-1))\n",
    "            loss.backward()\n",
    "            optimizer.step()\n",
    "            \n",
    "            avg_loss+=loss.item()\n",
    "        avg_loss/=len(train_loader)\n",
    "        train_history.append(avg_loss)\n",
    "        print(f\"Loss: {avg_loss}\")\n",
    "\n",
    "        eval_loss=0\n",
    "        asr_avg=0\n",
    "        if VAL_EPOCH and epoch%VAL_EPOCH==0:\n",
    "            model.eval()\n",
    "            with torch.no_grad():\n",
    "                for batch_num,(X,y) in enumerate(tqdm(val_loader,desc=\"Progress: \")):\n",
    "                    X=X.to(device)\n",
    "                    y=y.to(device)\n",
    "                    preds=model(X)\n",
    "                    loss=loss_fn(preds.view(-1, VOCAB_SIZE),y.view(-1))\n",
    "        \n",
    "                    eval_loss+=loss.item()\n",
    "                    \n",
    "                    asr_val=asr(preds,y)\n",
    "                    asr_avg+=asr_val.item()\n",
    "                    \n",
    "                eval_loss/=len(val_loader)\n",
    "                asr_avg/=len(val_loader)\n",
    "                asr_history.append(asr_avg)\n",
    "                val_history.append(eval_loss)\n",
    "                print(f\"Val Loss: {eval_loss}\",end=' ')\n",
    "                print(f\"Val ASR: {asr_avg}\")\n",
    "\n",
    "        if SAVE_EPOCH and epoch%SAVE_EPOCH==0:\n",
    "            print(\"Saving model\")\n",
    "            path=str(epoch)+'.pth'\n",
    "            torch.save(model.state_dict(), path)\n",
    "    torch.save(model.state_dict(),'final.pth')\n",
    "    return train_history,val_history,asr_history"
   ]
  },
  {
   "cell_type": "code",
   "execution_count": 22,
   "id": "8dcb6e18",
   "metadata": {
    "execution": {
     "iopub.execute_input": "2025-05-08T17:27:23.493782Z",
     "iopub.status.busy": "2025-05-08T17:27:23.493582Z",
     "iopub.status.idle": "2025-05-08T17:27:23.523319Z",
     "shell.execute_reply": "2025-05-08T17:27:23.522747Z"
    },
    "papermill": {
     "duration": 0.037018,
     "end_time": "2025-05-08T17:27:23.524557",
     "exception": false,
     "start_time": "2025-05-08T17:27:23.487539",
     "status": "completed"
    },
    "tags": []
   },
   "outputs": [],
   "source": [
    "model=CaptchaCrackNet().to(device)\n",
    "optimizer=torch.optim.Adam(model.parameters())"
   ]
  },
  {
   "cell_type": "code",
   "execution_count": 23,
   "id": "8e931355",
   "metadata": {
    "execution": {
     "iopub.execute_input": "2025-05-08T17:27:23.536306Z",
     "iopub.status.busy": "2025-05-08T17:27:23.536077Z",
     "iopub.status.idle": "2025-05-08T19:15:38.469029Z",
     "shell.execute_reply": "2025-05-08T19:15:38.467841Z"
    },
    "papermill": {
     "duration": 6494.940401,
     "end_time": "2025-05-08T19:15:38.470569",
     "exception": false,
     "start_time": "2025-05-08T17:27:23.530168",
     "status": "completed"
    },
    "tags": []
   },
   "outputs": [
    {
     "name": "stdout",
     "output_type": "stream",
     "text": [
      "Epoch 1:\n"
     ]
    },
    {
     "name": "stderr",
     "output_type": "stream",
     "text": [
      "Progress: 100%|██████████| 840/840 [07:03<00:00,  1.98it/s]\n"
     ]
    },
    {
     "name": "stdout",
     "output_type": "stream",
     "text": [
      "Loss: 4.052413977611632\n"
     ]
    },
    {
     "name": "stderr",
     "output_type": "stream",
     "text": [
      "Progress: 100%|██████████| 45/45 [00:21<00:00,  2.08it/s]\n"
     ]
    },
    {
     "name": "stdout",
     "output_type": "stream",
     "text": [
      "Val Loss: 3.9866638236575658 Val ASR: 0.04289186584452788\n",
      "Epoch 2:\n"
     ]
    },
    {
     "name": "stderr",
     "output_type": "stream",
     "text": [
      "Progress: 100%|██████████| 840/840 [02:29<00:00,  5.63it/s]\n"
     ]
    },
    {
     "name": "stdout",
     "output_type": "stream",
     "text": [
      "Loss: 3.835330656880424\n"
     ]
    },
    {
     "name": "stderr",
     "output_type": "stream",
     "text": [
      "Progress: 100%|██████████| 45/45 [00:05<00:00,  8.04it/s]\n"
     ]
    },
    {
     "name": "stdout",
     "output_type": "stream",
     "text": [
      "Val Loss: 3.656300279829237 Val ASR: 0.10192129794094297\n",
      "Epoch 3:\n"
     ]
    },
    {
     "name": "stderr",
     "output_type": "stream",
     "text": [
      "Progress: 100%|██████████| 840/840 [02:29<00:00,  5.62it/s]\n"
     ]
    },
    {
     "name": "stdout",
     "output_type": "stream",
     "text": [
      "Loss: 3.3169927097502208\n"
     ]
    },
    {
     "name": "stderr",
     "output_type": "stream",
     "text": [
      "Progress: 100%|██████████| 45/45 [00:05<00:00,  8.01it/s]\n"
     ]
    },
    {
     "name": "stdout",
     "output_type": "stream",
     "text": [
      "Val Loss: 3.0259183989630807 Val ASR: 0.19906250403987036\n",
      "Epoch 4:\n"
     ]
    },
    {
     "name": "stderr",
     "output_type": "stream",
     "text": [
      "Progress: 100%|██████████| 840/840 [02:29<00:00,  5.62it/s]\n"
     ]
    },
    {
     "name": "stdout",
     "output_type": "stream",
     "text": [
      "Loss: 2.8041472619488124\n"
     ]
    },
    {
     "name": "stderr",
     "output_type": "stream",
     "text": [
      "Progress: 100%|██████████| 45/45 [00:05<00:00,  8.33it/s]\n"
     ]
    },
    {
     "name": "stdout",
     "output_type": "stream",
     "text": [
      "Val Loss: 2.568498881657918 Val ASR: 0.29412699341773985\n",
      "Epoch 5:\n"
     ]
    },
    {
     "name": "stderr",
     "output_type": "stream",
     "text": [
      "Progress: 100%|██████████| 840/840 [02:29<00:00,  5.62it/s]\n"
     ]
    },
    {
     "name": "stdout",
     "output_type": "stream",
     "text": [
      "Loss: 2.4009256737572806\n"
     ]
    },
    {
     "name": "stderr",
     "output_type": "stream",
     "text": [
      "Progress: 100%|██████████| 45/45 [00:06<00:00,  7.03it/s]\n"
     ]
    },
    {
     "name": "stdout",
     "output_type": "stream",
     "text": [
      "Val Loss: 2.1844460593329535 Val ASR: 0.37613922357559204\n",
      "Epoch 6:\n"
     ]
    },
    {
     "name": "stderr",
     "output_type": "stream",
     "text": [
      "Progress: 100%|██████████| 840/840 [02:29<00:00,  5.61it/s]\n"
     ]
    },
    {
     "name": "stdout",
     "output_type": "stream",
     "text": [
      "Loss: 2.0626625957943143\n"
     ]
    },
    {
     "name": "stderr",
     "output_type": "stream",
     "text": [
      "Progress: 100%|██████████| 45/45 [00:05<00:00,  7.67it/s]\n"
     ]
    },
    {
     "name": "stdout",
     "output_type": "stream",
     "text": [
      "Val Loss: 1.893160753779941 Val ASR: 0.4473958412806193\n",
      "Epoch 7:\n"
     ]
    },
    {
     "name": "stderr",
     "output_type": "stream",
     "text": [
      "Progress: 100%|██████████| 840/840 [02:29<00:00,  5.62it/s]\n"
     ]
    },
    {
     "name": "stdout",
     "output_type": "stream",
     "text": [
      "Loss: 1.80938186503592\n"
     ]
    },
    {
     "name": "stderr",
     "output_type": "stream",
     "text": [
      "Progress: 100%|██████████| 45/45 [00:05<00:00,  8.71it/s]\n"
     ]
    },
    {
     "name": "stdout",
     "output_type": "stream",
     "text": [
      "Val Loss: 1.6706268151601156 Val ASR: 0.5087781177626716\n",
      "Epoch 8:\n"
     ]
    },
    {
     "name": "stderr",
     "output_type": "stream",
     "text": [
      "Progress: 100%|██████████| 840/840 [02:29<00:00,  5.62it/s]\n"
     ]
    },
    {
     "name": "stdout",
     "output_type": "stream",
     "text": [
      "Loss: 1.6036597958632879\n"
     ]
    },
    {
     "name": "stderr",
     "output_type": "stream",
     "text": [
      "Progress: 100%|██████████| 45/45 [00:05<00:00,  8.16it/s]\n"
     ]
    },
    {
     "name": "stdout",
     "output_type": "stream",
     "text": [
      "Val Loss: 1.499862167570326 Val ASR: 0.5503306885560354\n",
      "Epoch 9:\n"
     ]
    },
    {
     "name": "stderr",
     "output_type": "stream",
     "text": [
      "Progress: 100%|██████████| 840/840 [02:29<00:00,  5.63it/s]\n"
     ]
    },
    {
     "name": "stdout",
     "output_type": "stream",
     "text": [
      "Loss: 1.4305854519208272\n"
     ]
    },
    {
     "name": "stderr",
     "output_type": "stream",
     "text": [
      "Progress: 100%|██████████| 45/45 [00:05<00:00,  8.56it/s]\n"
     ]
    },
    {
     "name": "stdout",
     "output_type": "stream",
     "text": [
      "Val Loss: 1.3587690353393556 Val ASR: 0.5899305635028416\n",
      "Epoch 10:\n"
     ]
    },
    {
     "name": "stderr",
     "output_type": "stream",
     "text": [
      "Progress: 100%|██████████| 840/840 [02:29<00:00,  5.63it/s]\n"
     ]
    },
    {
     "name": "stdout",
     "output_type": "stream",
     "text": [
      "Loss: 1.2911712940250124\n"
     ]
    },
    {
     "name": "stderr",
     "output_type": "stream",
     "text": [
      "Progress: 100%|██████████| 45/45 [00:05<00:00,  8.40it/s]\n"
     ]
    },
    {
     "name": "stdout",
     "output_type": "stream",
     "text": [
      "Val Loss: 1.2521130032009549 Val ASR: 0.6148264050483704\n",
      "Saving model\n",
      "Epoch 11:\n"
     ]
    },
    {
     "name": "stderr",
     "output_type": "stream",
     "text": [
      "Progress: 100%|██████████| 840/840 [02:29<00:00,  5.64it/s]\n"
     ]
    },
    {
     "name": "stdout",
     "output_type": "stream",
     "text": [
      "Loss: 1.1733760906117303\n"
     ]
    },
    {
     "name": "stderr",
     "output_type": "stream",
     "text": [
      "Progress: 100%|██████████| 45/45 [00:05<00:00,  8.56it/s]\n"
     ]
    },
    {
     "name": "stdout",
     "output_type": "stream",
     "text": [
      "Val Loss: 1.164157599873013 Val ASR: 0.6451141079266866\n",
      "Epoch 12:\n"
     ]
    },
    {
     "name": "stderr",
     "output_type": "stream",
     "text": [
      "Progress: 100%|██████████| 840/840 [02:29<00:00,  5.63it/s]\n"
     ]
    },
    {
     "name": "stdout",
     "output_type": "stream",
     "text": [
      "Loss: 1.0778878458199046\n"
     ]
    },
    {
     "name": "stderr",
     "output_type": "stream",
     "text": [
      "Progress: 100%|██████████| 45/45 [00:05<00:00,  8.21it/s]\n"
     ]
    },
    {
     "name": "stdout",
     "output_type": "stream",
     "text": [
      "Val Loss: 1.069951558113098 Val ASR: 0.668217600716485\n",
      "Epoch 13:\n"
     ]
    },
    {
     "name": "stderr",
     "output_type": "stream",
     "text": [
      "Progress: 100%|██████████| 840/840 [02:29<00:00,  5.62it/s]\n"
     ]
    },
    {
     "name": "stdout",
     "output_type": "stream",
     "text": [
      "Loss: 0.9978216652359281\n"
     ]
    },
    {
     "name": "stderr",
     "output_type": "stream",
     "text": [
      "Progress: 100%|██████████| 45/45 [00:05<00:00,  8.20it/s]\n"
     ]
    },
    {
     "name": "stdout",
     "output_type": "stream",
     "text": [
      "Val Loss: 1.0125984350840251 Val ASR: 0.6868039157655504\n",
      "Epoch 14:\n"
     ]
    },
    {
     "name": "stderr",
     "output_type": "stream",
     "text": [
      "Progress: 100%|██████████| 840/840 [02:29<00:00,  5.63it/s]\n"
     ]
    },
    {
     "name": "stdout",
     "output_type": "stream",
     "text": [
      "Loss: 0.9281207893575941\n"
     ]
    },
    {
     "name": "stderr",
     "output_type": "stream",
     "text": [
      "Progress: 100%|██████████| 45/45 [00:05<00:00,  8.17it/s]\n"
     ]
    },
    {
     "name": "stdout",
     "output_type": "stream",
     "text": [
      "Val Loss: 0.9719425015979343 Val ASR: 0.6995056298043992\n",
      "Epoch 15:\n"
     ]
    },
    {
     "name": "stderr",
     "output_type": "stream",
     "text": [
      "Progress: 100%|██████████| 840/840 [02:29<00:00,  5.63it/s]\n"
     ]
    },
    {
     "name": "stdout",
     "output_type": "stream",
     "text": [
      "Loss: 0.8685314206849961\n"
     ]
    },
    {
     "name": "stderr",
     "output_type": "stream",
     "text": [
      "Progress: 100%|██████████| 45/45 [00:05<00:00,  8.02it/s]\n"
     ]
    },
    {
     "name": "stdout",
     "output_type": "stream",
     "text": [
      "Val Loss: 0.9242796474032932 Val ASR: 0.7089980231391059\n",
      "Epoch 16:\n"
     ]
    },
    {
     "name": "stderr",
     "output_type": "stream",
     "text": [
      "Progress: 100%|██████████| 840/840 [02:29<00:00,  5.61it/s]\n"
     ]
    },
    {
     "name": "stdout",
     "output_type": "stream",
     "text": [
      "Loss: 0.8168595678749538\n"
     ]
    },
    {
     "name": "stderr",
     "output_type": "stream",
     "text": [
      "Progress: 100%|██████████| 45/45 [00:05<00:00,  8.30it/s]\n"
     ]
    },
    {
     "name": "stdout",
     "output_type": "stream",
     "text": [
      "Val Loss: 0.8844792511728075 Val ASR: 0.7197057008743286\n",
      "Epoch 17:\n"
     ]
    },
    {
     "name": "stderr",
     "output_type": "stream",
     "text": [
      "Progress: 100%|██████████| 840/840 [02:29<00:00,  5.61it/s]\n"
     ]
    },
    {
     "name": "stdout",
     "output_type": "stream",
     "text": [
      "Loss: 0.7732070266490891\n"
     ]
    },
    {
     "name": "stderr",
     "output_type": "stream",
     "text": [
      "Progress: 100%|██████████| 45/45 [00:05<00:00,  7.78it/s]\n"
     ]
    },
    {
     "name": "stdout",
     "output_type": "stream",
     "text": [
      "Val Loss: 0.8541429705089993 Val ASR: 0.7306051664882236\n",
      "Epoch 18:\n"
     ]
    },
    {
     "name": "stderr",
     "output_type": "stream",
     "text": [
      "Progress: 100%|██████████| 840/840 [02:29<00:00,  5.61it/s]\n"
     ]
    },
    {
     "name": "stdout",
     "output_type": "stream",
     "text": [
      "Loss: 0.733486017371927\n"
     ]
    },
    {
     "name": "stderr",
     "output_type": "stream",
     "text": [
      "Progress: 100%|██████████| 45/45 [00:05<00:00,  8.31it/s]\n"
     ]
    },
    {
     "name": "stdout",
     "output_type": "stream",
     "text": [
      "Val Loss: 0.8315996381971571 Val ASR: 0.7340013292100694\n",
      "Epoch 19:\n"
     ]
    },
    {
     "name": "stderr",
     "output_type": "stream",
     "text": [
      "Progress: 100%|██████████| 840/840 [02:29<00:00,  5.61it/s]\n"
     ]
    },
    {
     "name": "stdout",
     "output_type": "stream",
     "text": [
      "Loss: 0.6987430005556061\n"
     ]
    },
    {
     "name": "stderr",
     "output_type": "stream",
     "text": [
      "Progress: 100%|██████████| 45/45 [00:05<00:00,  8.21it/s]\n"
     ]
    },
    {
     "name": "stdout",
     "output_type": "stream",
     "text": [
      "Val Loss: 0.800795582930247 Val ASR: 0.7435813599162632\n",
      "Epoch 20:\n"
     ]
    },
    {
     "name": "stderr",
     "output_type": "stream",
     "text": [
      "Progress: 100%|██████████| 840/840 [02:29<00:00,  5.61it/s]\n"
     ]
    },
    {
     "name": "stdout",
     "output_type": "stream",
     "text": [
      "Loss: 0.6692107871174813\n"
     ]
    },
    {
     "name": "stderr",
     "output_type": "stream",
     "text": [
      "Progress: 100%|██████████| 45/45 [00:05<00:00,  7.72it/s]\n"
     ]
    },
    {
     "name": "stdout",
     "output_type": "stream",
     "text": [
      "Val Loss: 0.7921854509247674 Val ASR: 0.7465046458774143\n",
      "Saving model\n",
      "Epoch 21:\n"
     ]
    },
    {
     "name": "stderr",
     "output_type": "stream",
     "text": [
      "Progress: 100%|██████████| 840/840 [02:29<00:00,  5.61it/s]\n"
     ]
    },
    {
     "name": "stdout",
     "output_type": "stream",
     "text": [
      "Loss: 0.6416698932647705\n"
     ]
    },
    {
     "name": "stderr",
     "output_type": "stream",
     "text": [
      "Progress: 100%|██████████| 45/45 [00:05<00:00,  8.18it/s]\n"
     ]
    },
    {
     "name": "stdout",
     "output_type": "stream",
     "text": [
      "Val Loss: 0.7702642374568516 Val ASR: 0.7537020617061191\n",
      "Epoch 22:\n"
     ]
    },
    {
     "name": "stderr",
     "output_type": "stream",
     "text": [
      "Progress: 100%|██████████| 840/840 [02:29<00:00,  5.61it/s]\n"
     ]
    },
    {
     "name": "stdout",
     "output_type": "stream",
     "text": [
      "Loss: 0.6150889965040344\n"
     ]
    },
    {
     "name": "stderr",
     "output_type": "stream",
     "text": [
      "Progress: 100%|██████████| 45/45 [00:05<00:00,  8.03it/s]\n"
     ]
    },
    {
     "name": "stdout",
     "output_type": "stream",
     "text": [
      "Val Loss: 0.7595647401279874 Val ASR: 0.7561260024706523\n",
      "Epoch 23:\n"
     ]
    },
    {
     "name": "stderr",
     "output_type": "stream",
     "text": [
      "Progress: 100%|██████████| 840/840 [02:29<00:00,  5.61it/s]\n"
     ]
    },
    {
     "name": "stdout",
     "output_type": "stream",
     "text": [
      "Loss: 0.5916300900635265\n"
     ]
    },
    {
     "name": "stderr",
     "output_type": "stream",
     "text": [
      "Progress: 100%|██████████| 45/45 [00:05<00:00,  8.20it/s]\n"
     ]
    },
    {
     "name": "stdout",
     "output_type": "stream",
     "text": [
      "Val Loss: 0.7548026455773248 Val ASR: 0.7581051654285855\n",
      "Epoch 24:\n"
     ]
    },
    {
     "name": "stderr",
     "output_type": "stream",
     "text": [
      "Progress: 100%|██████████| 840/840 [02:29<00:00,  5.61it/s]\n"
     ]
    },
    {
     "name": "stdout",
     "output_type": "stream",
     "text": [
      "Loss: 0.5710732735693455\n"
     ]
    },
    {
     "name": "stderr",
     "output_type": "stream",
     "text": [
      "Progress: 100%|██████████| 45/45 [00:05<00:00,  8.28it/s]\n"
     ]
    },
    {
     "name": "stdout",
     "output_type": "stream",
     "text": [
      "Val Loss: 0.7344204703966777 Val ASR: 0.7652050362692939\n",
      "Epoch 25:\n"
     ]
    },
    {
     "name": "stderr",
     "output_type": "stream",
     "text": [
      "Progress: 100%|██████████| 840/840 [02:29<00:00,  5.61it/s]\n"
     ]
    },
    {
     "name": "stdout",
     "output_type": "stream",
     "text": [
      "Loss: 0.5524667428008148\n"
     ]
    },
    {
     "name": "stderr",
     "output_type": "stream",
     "text": [
      "Progress: 100%|██████████| 45/45 [00:05<00:00,  8.21it/s]\n"
     ]
    },
    {
     "name": "stdout",
     "output_type": "stream",
     "text": [
      "Val Loss: 0.7219729158613417 Val ASR: 0.766688166724311\n",
      "Epoch 26:\n"
     ]
    },
    {
     "name": "stderr",
     "output_type": "stream",
     "text": [
      "Progress: 100%|██████████| 840/840 [02:29<00:00,  5.61it/s]\n"
     ]
    },
    {
     "name": "stdout",
     "output_type": "stream",
     "text": [
      "Loss: 0.5343104449766023\n"
     ]
    },
    {
     "name": "stderr",
     "output_type": "stream",
     "text": [
      "Progress: 100%|██████████| 45/45 [00:05<00:00,  8.20it/s]\n"
     ]
    },
    {
     "name": "stdout",
     "output_type": "stream",
     "text": [
      "Val Loss: 0.7175377302699619 Val ASR: 0.7678687254587809\n",
      "Epoch 27:\n"
     ]
    },
    {
     "name": "stderr",
     "output_type": "stream",
     "text": [
      "Progress: 100%|██████████| 840/840 [02:29<00:00,  5.61it/s]\n"
     ]
    },
    {
     "name": "stdout",
     "output_type": "stream",
     "text": [
      "Loss: 0.518069890212445\n"
     ]
    },
    {
     "name": "stderr",
     "output_type": "stream",
     "text": [
      "Progress: 100%|██████████| 45/45 [00:06<00:00,  6.99it/s]\n"
     ]
    },
    {
     "name": "stdout",
     "output_type": "stream",
     "text": [
      "Val Loss: 0.7094164331754048 Val ASR: 0.7725281119346619\n",
      "Epoch 28:\n"
     ]
    },
    {
     "name": "stderr",
     "output_type": "stream",
     "text": [
      "Progress: 100%|██████████| 840/840 [02:29<00:00,  5.61it/s]\n"
     ]
    },
    {
     "name": "stdout",
     "output_type": "stream",
     "text": [
      "Loss: 0.5025881532757055\n"
     ]
    },
    {
     "name": "stderr",
     "output_type": "stream",
     "text": [
      "Progress: 100%|██████████| 45/45 [00:05<00:00,  8.40it/s]\n"
     ]
    },
    {
     "name": "stdout",
     "output_type": "stream",
     "text": [
      "Val Loss: 0.7066324538654751 Val ASR: 0.773941797680325\n",
      "Epoch 29:\n"
     ]
    },
    {
     "name": "stderr",
     "output_type": "stream",
     "text": [
      "Progress: 100%|██████████| 840/840 [02:29<00:00,  5.61it/s]\n"
     ]
    },
    {
     "name": "stdout",
     "output_type": "stream",
     "text": [
      "Loss: 0.4895866157753127\n"
     ]
    },
    {
     "name": "stderr",
     "output_type": "stream",
     "text": [
      "Progress: 100%|██████████| 45/45 [00:05<00:00,  8.16it/s]\n"
     ]
    },
    {
     "name": "stdout",
     "output_type": "stream",
     "text": [
      "Val Loss: 0.6968430015775893 Val ASR: 0.7789170053270128\n",
      "Epoch 30:\n"
     ]
    },
    {
     "name": "stderr",
     "output_type": "stream",
     "text": [
      "Progress: 100%|██████████| 840/840 [02:29<00:00,  5.61it/s]\n"
     ]
    },
    {
     "name": "stdout",
     "output_type": "stream",
     "text": [
      "Loss: 0.47499851350273403\n"
     ]
    },
    {
     "name": "stderr",
     "output_type": "stream",
     "text": [
      "Progress: 100%|██████████| 45/45 [00:05<00:00,  8.18it/s]\n"
     ]
    },
    {
     "name": "stdout",
     "output_type": "stream",
     "text": [
      "Val Loss: 0.6914375940958659 Val ASR: 0.7806812180413141\n",
      "Saving model\n",
      "Epoch 31:\n"
     ]
    },
    {
     "name": "stderr",
     "output_type": "stream",
     "text": [
      "Progress: 100%|██████████| 840/840 [02:29<00:00,  5.61it/s]\n"
     ]
    },
    {
     "name": "stdout",
     "output_type": "stream",
     "text": [
      "Loss: 0.4635334141907238\n"
     ]
    },
    {
     "name": "stderr",
     "output_type": "stream",
     "text": [
      "Progress: 100%|██████████| 45/45 [00:05<00:00,  7.99it/s]\n"
     ]
    },
    {
     "name": "stdout",
     "output_type": "stream",
     "text": [
      "Val Loss: 0.6869497431649102 Val ASR: 0.7790773895051745\n",
      "Epoch 32:\n"
     ]
    },
    {
     "name": "stderr",
     "output_type": "stream",
     "text": [
      "Progress: 100%|██████████| 840/840 [02:29<00:00,  5.61it/s]\n"
     ]
    },
    {
     "name": "stdout",
     "output_type": "stream",
     "text": [
      "Loss: 0.4502728192224389\n"
     ]
    },
    {
     "name": "stderr",
     "output_type": "stream",
     "text": [
      "Progress: 100%|██████████| 45/45 [00:05<00:00,  8.09it/s]\n"
     ]
    },
    {
     "name": "stdout",
     "output_type": "stream",
     "text": [
      "Val Loss: 0.6804303447405498 Val ASR: 0.7829414751794603\n",
      "Epoch 33:\n"
     ]
    },
    {
     "name": "stderr",
     "output_type": "stream",
     "text": [
      "Progress: 100%|██████████| 840/840 [02:29<00:00,  5.61it/s]\n"
     ]
    },
    {
     "name": "stdout",
     "output_type": "stream",
     "text": [
      "Loss: 0.4406353890541054\n"
     ]
    },
    {
     "name": "stderr",
     "output_type": "stream",
     "text": [
      "Progress: 100%|██████████| 45/45 [00:05<00:00,  7.61it/s]\n"
     ]
    },
    {
     "name": "stdout",
     "output_type": "stream",
     "text": [
      "Val Loss: 0.6876890619595846 Val ASR: 0.7817576156722175\n",
      "Epoch 34:\n"
     ]
    },
    {
     "name": "stderr",
     "output_type": "stream",
     "text": [
      "Progress: 100%|██████████| 840/840 [02:29<00:00,  5.61it/s]\n"
     ]
    },
    {
     "name": "stdout",
     "output_type": "stream",
     "text": [
      "Loss: 0.4308471338025161\n"
     ]
    },
    {
     "name": "stderr",
     "output_type": "stream",
     "text": [
      "Progress: 100%|██████████| 45/45 [00:06<00:00,  7.49it/s]\n"
     ]
    },
    {
     "name": "stdout",
     "output_type": "stream",
     "text": [
      "Val Loss: 0.6869145631790161 Val ASR: 0.7836260000864664\n",
      "Epoch 35:\n"
     ]
    },
    {
     "name": "stderr",
     "output_type": "stream",
     "text": [
      "Progress: 100%|██████████| 840/840 [02:29<00:00,  5.61it/s]\n"
     ]
    },
    {
     "name": "stdout",
     "output_type": "stream",
     "text": [
      "Loss: 0.4211944654583931\n"
     ]
    },
    {
     "name": "stderr",
     "output_type": "stream",
     "text": [
      "Progress: 100%|██████████| 45/45 [00:05<00:00,  8.07it/s]\n"
     ]
    },
    {
     "name": "stdout",
     "output_type": "stream",
     "text": [
      "Val Loss: 0.6885705762439304 Val ASR: 0.7832159360249837\n",
      "Epoch 36:\n"
     ]
    },
    {
     "name": "stderr",
     "output_type": "stream",
     "text": [
      "Progress: 100%|██████████| 840/840 [02:29<00:00,  5.62it/s]\n"
     ]
    },
    {
     "name": "stdout",
     "output_type": "stream",
     "text": [
      "Loss: 0.41224846421253114\n"
     ]
    },
    {
     "name": "stderr",
     "output_type": "stream",
     "text": [
      "Progress: 100%|██████████| 45/45 [00:05<00:00,  8.62it/s]\n"
     ]
    },
    {
     "name": "stdout",
     "output_type": "stream",
     "text": [
      "Val Loss: 0.6829795572492812 Val ASR: 0.7846990784009298\n",
      "Epoch 37:\n"
     ]
    },
    {
     "name": "stderr",
     "output_type": "stream",
     "text": [
      "Progress: 100%|██████████| 840/840 [02:29<00:00,  5.63it/s]\n"
     ]
    },
    {
     "name": "stdout",
     "output_type": "stream",
     "text": [
      "Loss: 0.4029039045529706\n"
     ]
    },
    {
     "name": "stderr",
     "output_type": "stream",
     "text": [
      "Progress: 100%|██████████| 45/45 [00:05<00:00,  8.27it/s]\n"
     ]
    },
    {
     "name": "stdout",
     "output_type": "stream",
     "text": [
      "Val Loss: 0.6741407023535835 Val ASR: 0.787521505355835\n",
      "Epoch 38:\n"
     ]
    },
    {
     "name": "stderr",
     "output_type": "stream",
     "text": [
      "Progress: 100%|██████████| 840/840 [02:29<00:00,  5.63it/s]\n"
     ]
    },
    {
     "name": "stdout",
     "output_type": "stream",
     "text": [
      "Loss: 0.3943528013569968\n"
     ]
    },
    {
     "name": "stderr",
     "output_type": "stream",
     "text": [
      "Progress: 100%|██████████| 45/45 [00:05<00:00,  8.74it/s]\n"
     ]
    },
    {
     "name": "stdout",
     "output_type": "stream",
     "text": [
      "Val Loss: 0.6802733076943291 Val ASR: 0.7845701085196601\n",
      "Epoch 39:\n"
     ]
    },
    {
     "name": "stderr",
     "output_type": "stream",
     "text": [
      "Progress: 100%|██████████| 840/840 [02:29<00:00,  5.62it/s]\n"
     ]
    },
    {
     "name": "stdout",
     "output_type": "stream",
     "text": [
      "Loss: 0.38547619474785666\n"
     ]
    },
    {
     "name": "stderr",
     "output_type": "stream",
     "text": [
      "Progress: 100%|██████████| 45/45 [00:05<00:00,  8.26it/s]\n"
     ]
    },
    {
     "name": "stdout",
     "output_type": "stream",
     "text": [
      "Val Loss: 0.6722084376547072 Val ASR: 0.7908432682355245\n",
      "Epoch 40:\n"
     ]
    },
    {
     "name": "stderr",
     "output_type": "stream",
     "text": [
      "Progress: 100%|██████████| 840/840 [02:29<00:00,  5.63it/s]\n"
     ]
    },
    {
     "name": "stdout",
     "output_type": "stream",
     "text": [
      "Loss: 0.37890758681155384\n"
     ]
    },
    {
     "name": "stderr",
     "output_type": "stream",
     "text": [
      "Progress: 100%|██████████| 45/45 [00:05<00:00,  7.77it/s]"
     ]
    },
    {
     "name": "stdout",
     "output_type": "stream",
     "text": [
      "Val Loss: 0.6774577935536702 Val ASR: 0.7907787733607822\n",
      "Saving model\n"
     ]
    },
    {
     "name": "stderr",
     "output_type": "stream",
     "text": [
      "\n"
     ]
    }
   ],
   "source": [
    "train_history,val_history,asr_history=train(model,train_loader,val_loader,optimizer,nn.CrossEntropyLoss(),EPOCHS)"
   ]
  },
  {
   "cell_type": "code",
   "execution_count": 24,
   "id": "660e15d6",
   "metadata": {
    "execution": {
     "iopub.execute_input": "2025-05-08T19:15:41.883400Z",
     "iopub.status.busy": "2025-05-08T19:15:41.883088Z",
     "iopub.status.idle": "2025-05-08T19:15:42.116313Z",
     "shell.execute_reply": "2025-05-08T19:15:42.115482Z"
    },
    "papermill": {
     "duration": 1.907773,
     "end_time": "2025-05-08T19:15:42.117740",
     "exception": false,
     "start_time": "2025-05-08T19:15:40.209967",
     "status": "completed"
    },
    "tags": []
   },
   "outputs": [
    {
     "data": {
      "image/png": "[encoded data removed]",
      "text/plain": [
       "<Figure size 640x480 with 1 Axes>"
      ]
     },
     "metadata": {},
     "output_type": "display_data"
    }
   ],
   "source": [
    "import matplotlib.pyplot as plt\n",
    "plt.plot(train_history,label='train')\n",
    "plt.plot(val_history,label='val')\n",
    "plt.title(\"Loss\")\n",
    "plt.legend()\n",
    "plt.show()"
   ]
  },
  {
   "cell_type": "code",
   "execution_count": 25,
   "id": "16e2a839",
   "metadata": {
    "execution": {
     "iopub.execute_input": "2025-05-08T19:15:45.451448Z",
     "iopub.status.busy": "2025-05-08T19:15:45.451148Z",
     "iopub.status.idle": "2025-05-08T19:15:45.610701Z",
     "shell.execute_reply": "2025-05-08T19:15:45.609948Z"
    },
    "papermill": {
     "duration": 1.815212,
     "end_time": "2025-05-08T19:15:45.612039",
     "exception": false,
     "start_time": "2025-05-08T19:15:43.796827",
     "status": "completed"
    },
    "tags": []
   },
   "outputs": [
    {
     "data": {
      "image/png": "[encoded data removed]",
      "text/plain": [
       "<Figure size 640x480 with 1 Axes>"
      ]
     },
     "metadata": {},
     "output_type": "display_data"
    }
   ],
   "source": [
    "plt.plot(asr_history)\n",
    "plt.title(\"Validation ASR\")\n",
    "plt.show()"
   ]
  },
  {
   "cell_type": "markdown",
   "id": "dd079c11",
   "metadata": {
    "papermill": {
     "duration": 1.685365,
     "end_time": "2025-05-08T19:15:48.965063",
     "exception": false,
     "start_time": "2025-05-08T19:15:47.279698",
     "status": "completed"
    },
    "tags": []
   },
   "source": [
    "# Results\n"
   ]
  },
  {
   "cell_type": "code",
   "execution_count": 26,
   "id": "ed66a8c3",
   "metadata": {
    "execution": {
     "iopub.execute_input": "2025-05-08T19:15:52.260361Z",
     "iopub.status.busy": "2025-05-08T19:15:52.260035Z",
     "iopub.status.idle": "2025-05-08T19:15:52.264362Z",
     "shell.execute_reply": "2025-05-08T19:15:52.263680Z"
    },
    "papermill": {
     "duration": 1.652486,
     "end_time": "2025-05-08T19:15:52.265675",
     "exception": false,
     "start_time": "2025-05-08T19:15:50.613189",
     "status": "completed"
    },
    "tags": []
   },
   "outputs": [],
   "source": [
    "characters = string.ascii_letters + string.digits  # Uppercase + lowercase + digits\n",
    "idx_to_char = {idx: char for idx, char in enumerate(characters)}\n",
    "def to_text(arr):\n",
    "    ans=''\n",
    "    for c in arr:\n",
    "        ans=ans+idx_to_char[c.item()]\n",
    "    return ans"
   ]
  },
  {
   "cell_type": "code",
   "execution_count": 27,
   "id": "21b4497f",
   "metadata": {
    "execution": {
     "iopub.execute_input": "2025-05-08T19:15:55.564286Z",
     "iopub.status.busy": "2025-05-08T19:15:55.563972Z",
     "iopub.status.idle": "2025-05-08T19:15:56.300597Z",
     "shell.execute_reply": "2025-05-08T19:15:56.299453Z"
    },
    "papermill": {
     "duration": 2.386236,
     "end_time": "2025-05-08T19:15:56.302124",
     "exception": false,
     "start_time": "2025-05-08T19:15:53.915888",
     "status": "completed"
    },
    "tags": []
   },
   "outputs": [
    {
     "data": {
      "image/png": "[encoded data removed]",
      "text/plain": [
       "<Figure size 640x480 with 1 Axes>"
      ]
     },
     "metadata": {},
     "output_type": "display_data"
    },
    {
     "data": {
      "image/png": "[encoded data removed]",
      "text/plain": [
       "<Figure size 640x480 with 1 Axes>"
      ]
     },
     "metadata": {},
     "output_type": "display_data"
    },
    {
     "name": "stdout",
     "output_type": "stream",
     "text": [
      "torch.Size([1, 5, 62])\n",
      "S5ill\n"
     ]
    }
   ],
   "source": [
    "import matplotlib.pyplot as plt\n",
    "with torch.no_grad():\n",
    "    for X,y in train_loader:\n",
    "        X=X[0]\n",
    "        \n",
    "        plt.imshow(X.numpy().transpose(1,2,0))\n",
    "        plt.show()\n",
    "        output=model(X.unsqueeze(0).to(device))\n",
    "        X1=model.affn(X.unsqueeze(0).to(device))\n",
    "        plt.imshow(X1[0].cpu().numpy().transpose(1,2,0))\n",
    "        plt.show()\n",
    "        print(output.shape)\n",
    "        print(to_text(output.squeeze(0).argmax(axis=1)))\n",
    "        break"
   ]
  }
 ],
 "metadata": {
  "kaggle": {
   "accelerator": "gpu",
   "dataSources": [
    {
     "datasetId": 1193002,
     "sourceId": 1994695,
     "sourceType": "datasetVersion"
    }
   ],
   "dockerImageVersionId": 30919,
   "isGpuEnabled": true,
   "isInternetEnabled": true,
   "language": "python",
   "sourceType": "notebook"
  },
  "kernelspec": {
   "display_name": "Python 3",
   "language": "python",
   "name": "python3"
  },
  "language_info": {
   "codemirror_mode": {
    "name": "ipython",
    "version": 3
   },
   "file_extension": ".py",
   "mimetype": "text/x-python",
   "name": "python",
   "nbconvert_exporter": "python",
   "pygments_lexer": "ipython3",
   "version": "3.10.12"
  },
  "papermill": {
   "default_parameters": {},
   "duration": 6543.814636,
   "end_time": "2025-05-08T19:16:06.144321",
   "environment_variables": {},
   "exception": null,
   "input_path": "__notebook__.ipynb",
   "output_path": "__notebook__.ipynb",
   "parameters": {},
   "start_time": "2025-05-08T17:27:02.329685",
   "version": "2.6.0"
  }
 },
 "nbformat": 4,
 "nbformat_minor": 5
}
